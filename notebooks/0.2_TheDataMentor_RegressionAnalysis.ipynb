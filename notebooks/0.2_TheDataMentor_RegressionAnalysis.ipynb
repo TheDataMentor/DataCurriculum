{
 "cells": [
  {
   "cell_type": "markdown",
   "metadata": {},
   "source": [
    "# Regression Analysis - Using TheDataMentor Analysis Template\n"
   ]
  },
  {
   "cell_type": "markdown",
   "metadata": {},
   "source": [
    "Author: Brandon T. Jackson of DataJackson, LLC. \n",
    "\n",
    "Initalized: 3/10/2020\n",
    "\n",
    "The following workbook blends my experience as a Data Scientist over the last 5 years as well as a year of mentoring working professionals through a paid data science bootcamp. \n",
    "\n"
   ]
  },
  {
   "cell_type": "markdown",
   "metadata": {},
   "source": [
    "# Analysis Agenda"
   ]
  },
  {
   "cell_type": "markdown",
   "metadata": {},
   "source": [
    "[Link to Step 1: Setup Analysis Environment](#step1) \n",
    "\n",
    "[Link to Step 2: Frame The Problem](#step2)\n",
    "\n",
    "[Link to Step 3: Collect Data](#step3)\n",
    "\n",
    "[Link to Step 4: Clean Data](#step4)\n",
    "\n",
    "[Link to Step 5: Explore Data](#step5)\n",
    "\n",
    "[Link to Step 6: Model Data](#step6)\n",
    "\n",
    "[Link to Step 7: Validate Model](#step7)\n",
    "\n",
    "[Link to Step 8: Productionize Model](#step8)"
   ]
  },
  {
   "cell_type": "markdown",
   "metadata": {},
   "source": [
    "\n",
    "\n"
   ]
  },
  {
   "cell_type": "markdown",
   "metadata": {},
   "source": [
    "<a id='step1'></a>"
   ]
  },
  {
   "cell_type": "markdown",
   "metadata": {},
   "source": [
    "# Step 1: Setup Analysis Environment"
   ]
  },
  {
   "cell_type": "code",
   "execution_count": 95,
   "metadata": {},
   "outputs": [
    {
     "data": {
      "text/html": [
       "        <script type=\"text/javascript\">\n",
       "        window.PlotlyConfig = {MathJaxConfig: 'local'};\n",
       "        if (window.MathJax) {MathJax.Hub.Config({SVG: {font: \"STIX-Web\"}});}\n",
       "        if (typeof require !== 'undefined') {\n",
       "        require.undef(\"plotly\");\n",
       "        requirejs.config({\n",
       "            paths: {\n",
       "                'plotly': ['https://cdn.plot.ly/plotly-latest.min']\n",
       "            }\n",
       "        });\n",
       "        require(['plotly'], function(Plotly) {\n",
       "            window._Plotly = Plotly;\n",
       "        });\n",
       "        }\n",
       "        </script>\n",
       "        "
      ]
     },
     "metadata": {},
     "output_type": "display_data"
    }
   ],
   "source": [
    "''' Import basic Moddules'''\n",
    "\n",
    "import pandas as pd\n",
    "\n",
    "import sklearn as stk\n",
    "import sklearn.datasets \n",
    "from sklearn.model_selection import KFold\n",
    "from sklearn import linear_model\n",
    "import statsmodels.api as sm\n",
    "from sklearn.model_selection import train_test_split\n",
    "import numpy as np\n",
    "\n",
    "#from sklearn import linear_model\n",
    "from sklearn.linear_model import LinearRegression, LassoCV, RidgeCV, ElasticNetCV\n",
    "from sklearn.metrics import mean_absolute_error\n",
    "from statsmodels.tools.eval_measures import mse, rmse\n",
    "import scipy.stats as st\n",
    "import statsmodels as sm\n",
    "from statsmodels.graphics.gofplots import qqplot\n",
    "from sklearn.neighbors import KNeighborsRegressor as knn\n",
    "\n",
    "'''visualization .'''\n",
    "import plotly.offline as py\n",
    "from plotly.offline import iplot, init_notebook_mode\n",
    "import plotly.graph_objs as go\n",
    "init_notebook_mode(connected = True) # Required to use plotly offline in jupyter notebook\n",
    "import seaborn as sns\n",
    "import matplotlib.pyplot as plt"
   ]
  },
  {
   "cell_type": "code",
   "execution_count": 96,
   "metadata": {},
   "outputs": [],
   "source": [
    "'''Ignore deprecation and future, and user warnings.'''\n",
    "import warnings as wrn\n",
    "wrn.filterwarnings('ignore', category = DeprecationWarning) \n",
    "wrn.filterwarnings('ignore', category = FutureWarning) \n",
    "wrn.filterwarnings('ignore', category = UserWarning) "
   ]
  },
  {
   "cell_type": "code",
   "execution_count": 58,
   "metadata": {},
   "outputs": [],
   "source": [
    "'''Display markdown formatted output like bold, italic bold etc.'''\n",
    "from IPython.display import Markdown\n",
    "def bold(string):\n",
    "    display(Markdown(string))"
   ]
  },
  {
   "cell_type": "markdown",
   "metadata": {},
   "source": [
    "<a id='step2'></a>"
   ]
  },
  {
   "cell_type": "markdown",
   "metadata": {},
   "source": [
    "# Step 2: Frame The Problem"
   ]
  },
  {
   "cell_type": "markdown",
   "metadata": {},
   "source": [
    "Frame the problem: Who is your client? What exactly is the client asking you to solve? How can you translate their ambiguous request into a concrete, well-defined problem?"
   ]
  },
  {
   "cell_type": "markdown",
   "metadata": {},
   "source": [
    "1. Make a clear statement of the problem\n",
    "2. List the assumptions about the problem (e.g. about the data).\n",
    "3. Describe the motivation for solving the problem.\n",
    "    - Describe the benefits of the solution (model or the predictions).\n",
    "    - Describe how the solution will be used.\n",
    "4. Map domain knowledge to a machine learning solution \n",
    "    - Describe how the problem is currently solved (if at all).\n",
    "    - Describe how a subject matter expert would make manual predictions.\n",
    "    - Describe how a programmer might hand code a classifier."
   ]
  },
  {
   "cell_type": "code",
   "execution_count": null,
   "metadata": {},
   "outputs": [],
   "source": []
  },
  {
   "cell_type": "code",
   "execution_count": null,
   "metadata": {},
   "outputs": [],
   "source": []
  },
  {
   "cell_type": "code",
   "execution_count": null,
   "metadata": {},
   "outputs": [],
   "source": []
  },
  {
   "cell_type": "markdown",
   "metadata": {},
   "source": [
    "<a id='step3'></a>"
   ]
  },
  {
   "cell_type": "markdown",
   "metadata": {},
   "source": [
    "# Step 3: Collect or Access Your Data"
   ]
  },
  {
   "cell_type": "code",
   "execution_count": null,
   "metadata": {},
   "outputs": [],
   "source": []
  },
  {
   "cell_type": "markdown",
   "metadata": {},
   "source": [
    "Collect the raw data needed to solve the problem: \n",
    "- Is this data already available? If so, what parts of the data are useful? \n",
    "- If not, what more data do you need? What kind of resources (time, money, infrastructure) would it take to collect this data in a usable form?\n",
    "\n",
    "### For ease of use:\n",
    "\n",
    "I am going to randomly generate data using sklearn dataset. Resources listed below:\n",
    "\n",
    "\n",
    "Resource - Synthetic Data - https://towardsdatascience.com/synthetic-data-generation-a-must-have-skill-for-new-data-scientists-915896c0c1ae\n",
    "\n",
    "Resource - Generate Regression Data - https://scikit-learn.org/stable/modules/generated/sklearn.datasets.make_regression.html"
   ]
  },
  {
   "cell_type": "code",
   "execution_count": 377,
   "metadata": {},
   "outputs": [
    {
     "data": {
      "image/png": "[encoded data removed]",
      "text/plain": [
       "<Figure size 1152x864 with 1 Axes>"
      ]
     },
     "metadata": {},
     "output_type": "display_data"
    }
   ],
   "source": [
    "# Function to create regression data\n",
    "\n",
    "\n",
    "''' Simulate Regression Data'''\n",
    "rng = np.random.RandomState(0)\n",
    "X, y =sklearn.datasets.make_regression(n_samples=1000, n_features=10, n_informative=4, n_targets=1, bias=-0.5, effective_rank=None, tail_strength=0.5, noise=3.8, shuffle=True, coef=False, random_state=None)\n",
    "\n",
    "y = np.random.normal(10,20,1000)\n",
    "\n",
    "'''\n",
    "\n",
    "Going to comment out this code and come back later. \n",
    "I am adding it to build a more interpretatble analysis based on simulated data.\n",
    "\n",
    "def PosNormal(mean, sigma):\n",
    "    y = np.random.normal(10,20,1000)\n",
    "    return(y if y>=0 else PosNormal(mean,sigma))\n",
    "\n",
    "y = PosNormal(10,20)\n",
    "'''\n",
    "\n",
    "\n",
    "''' Add noise and outliers'''\n",
    "\n",
    "# Add four strong outliers to the dataset.\n",
    "X_outliers = rng.normal(0, 0.5, size=(4, 10))\n",
    "y_outliers = rng.normal(0, 2.0, size=4)\n",
    "X_outliers[:2, :] += X.max() + X.mean() / 4.\n",
    "X_outliers[2:, :] += X.min() - X.mean() / 4.\n",
    "y_outliers[:2] += y.min() - y.mean() / 4.\n",
    "y_outliers[2:] += y.max() + y.mean() / 4.\n",
    "X = np.vstack((X, X_outliers))\n",
    "y = np.concatenate((y, y_outliers))\n",
    "plt.plot(X, y, 'b.')\n",
    "\n",
    "\n",
    "''' A secondary method to add outliers'''\n",
    "\n",
    "n_outliers = 100\n",
    "np.random.seed(0)\n",
    "X[:n_outliers] = 3 + 0.5 * np.random.normal(size=(n_outliers, 10))\n",
    "y[:n_outliers] = -3 + 10 * np.random.normal(size=n_outliers)\n",
    "\n",
    "# Convert the array into a dataframe\n",
    "X_df = pd.DataFrame(X)\n",
    "\n",
    "X_df.columns = ['Variable_'+str(X_df+1) for X_df in range(X_df.shape[1])]\n",
    "#pd.DataFrame(X_df).shape\n",
    "\n",
    "y_df = pd.DataFrame(y)\n",
    "#y_df.shape\n",
    "y_df.columns = ['y']\n",
    "\n",
    "frames = [X_df,y_df]\n",
    "\n",
    "#frames = pd.concat([X_df,y_df], axis = 1)\n",
    "\n",
    "# assign the regression data to df and then create column names\n",
    "df = pd.concat(frames,axis = 1)\n"
   ]
  },
  {
   "cell_type": "code",
   "execution_count": 350,
   "metadata": {},
   "outputs": [],
   "source": [
    "''' Testing out another method to generate random data'''\n",
    "\n",
    "import logging\n",
    "__name__ = \"DataSimulator\"\n",
    "logging.basicConfig(level=logging.INFO)\n",
    "logger = logging.getLogger(__name__)\n",
    "\n",
    "import numpy as np\n",
    "import pandas as pd\n",
    "\n",
    "def generate_simulated_data(add_anomalies:bool=True, random_state:int=42):\n",
    "    rnd_state = np.random.RandomState(random_state)\n",
    "    time = np.linspace(0, 200, num=2000)\n",
    "    pure = 20*np.sin(time/(2*np.pi))\n",
    "\n",
    "    # concatenate on the second axis; this will allow us to mix different data \n",
    "    # distribution\n",
    "    data = np.c_[pure]\n",
    "    mu = np.mean(data)\n",
    "    sd = np.std(data)\n",
    "    logger.info(f\"Data shape : {data.shape}. mu: {mu} with sd: {sd}\")\n",
    "    data_df = pd.DataFrame(data, columns=['Value'])\n",
    "    data_df['Index'] = data_df.index.values\n",
    "\n",
    "    # Adding gaussian jitter\n",
    "    jitter = 0.3*rnd_state.normal(mu, sd, size=data_df.shape[0])\n",
    "    data_df['with_jitter'] = data_df['Value'] + jitter\n",
    "\n",
    "    index_further_away = None\n",
    "    if add_anomalies:\n",
    "        # As per the 68-95-99.7 rule(also known as the empirical rule) mu+-2*sd \n",
    "        # covers 95.4% of the dataset.\n",
    "        # Since, anomalies are considered to be rare and typically within the \n",
    "        # 5-10% of the data; this filtering\n",
    "        # technique might work \n",
    "        #for us(https://en.wikipedia.org/wiki/68%E2%80%9395%E2%80%9399.7_rule)\n",
    "        indexes_furhter_away = np.where(np.abs(data_df['with_jitter']) > (mu + \n",
    "         2*sd))[0]\n",
    "        logger.info(f\"Number of points further away : {len(indexes_furhter_away)}. Indexes: {indexes_furhter_away}\")\n",
    "        # Generate a point uniformly and embed it into the dataset\n",
    "        random = rnd_state.uniform(0, 5, 1)\n",
    "        data_df.loc[indexes_furhter_away, 'with_jitter'] += random*data_df.loc[indexes_furhter_away, 'with_jitter']\n",
    "    return data_df, indexes_furhter_away"
   ]
  },
  {
   "cell_type": "code",
   "execution_count": 351,
   "metadata": {},
   "outputs": [
    {
     "name": "stderr",
     "output_type": "stream",
     "text": [
      "INFO:DataSimulator:Data shape : (2000, 1). mu: 0.05533814950551323 with sd: 14.056884811755301\n",
      "INFO:DataSimulator:Number of points further away : 10. Indexes: [ 113  262  478  668  880 1061 1101 1276 1291 1649]\n"
     ]
    },
    {
     "data": {
      "text/plain": [
       "(         Value  Index  with_jitter\n",
       " 0     0.000000      0     2.111278\n",
       " 1     0.318456      1    -0.248012\n",
       " 2     0.636831      2     3.384777\n",
       " 3     0.955044      3     7.394362\n",
       " 4     1.273015      4     0.302177\n",
       " 5     1.590664      5     0.619894\n",
       " 6     1.907909      6     8.584154\n",
       " 7     2.224671      7     5.477594\n",
       " 8     2.540868      8     0.577665\n",
       " 9     2.856421      9     5.161034\n",
       " 10    3.171250     10     1.233589\n",
       " 11    3.485275     11     1.537863\n",
       " 12    3.798416     12     4.835388\n",
       " 13    4.110594     13    -3.941233\n",
       " 14    4.421730     14    -2.835760\n",
       " 15    4.731744     15     2.377143\n",
       " 16    5.040559     16     0.785986\n",
       " 17    5.348096     17     6.689899\n",
       " 18    5.654277     18     1.841682\n",
       " 19    5.959024     19     0.019849\n",
       " 20    6.262261     20    12.459599\n",
       " 21    6.563909     21     5.628397\n",
       " 22    6.863893     22     7.165266\n",
       " 23    7.162137     23     1.170482\n",
       " 24    7.458565     24     5.179469\n",
       " 25    7.753102     25     8.237471\n",
       " 26    8.045673     26     3.208459\n",
       " 27    8.336204     27     9.937148\n",
       " 28    8.624621     28     6.108290\n",
       " 29    8.910852     29     7.697361\n",
       " ...        ...    ...          ...\n",
       " 1970 -0.934023   1970     1.585646\n",
       " 1971 -0.615796   1971   -12.999006\n",
       " 1972 -0.297414   1972     2.485164\n",
       " 1973  0.021045   1973     0.858861\n",
       " 1974  0.339497   1974     0.277203\n",
       " 1975  0.657864   1975    -0.963942\n",
       " 1976  0.976064   1976     5.733122\n",
       " 1977  1.294016   1977     5.306399\n",
       " 1978  1.611641   1978    -1.631033\n",
       " 1979  1.928857   1979     3.662024\n",
       " 1980  2.245583   1980    -1.835355\n",
       " 1981  2.561740   1981    -3.239598\n",
       " 1982  2.877248   1982     0.250942\n",
       " 1983  3.192026   1983     6.845398\n",
       " 1984  3.505995   1984     7.541987\n",
       " 1985  3.819075   1985     5.999392\n",
       " 1986  4.131187   1986     7.205565\n",
       " 1987  4.442251   1987     6.635610\n",
       " 1988  4.752189   1988     2.063620\n",
       " 1989  5.060922   1989     6.898969\n",
       " 1990  5.368371   1990     8.760352\n",
       " 1991  5.674460   1991     8.871957\n",
       " 1992  5.979110   1992    11.009437\n",
       " 1993  6.282243   1993     9.285809\n",
       " 1994  6.583784   1994     8.082466\n",
       " 1995  6.883656   1995    11.413151\n",
       " 1996  7.181782   1996     7.086542\n",
       " 1997  7.478087   1997     3.775766\n",
       " 1998  7.772496   1998     7.101434\n",
       " 1999  8.064935   1999     4.940233\n",
       " \n",
       " [2000 rows x 3 columns],\n",
       " array([ 113,  262,  478,  668,  880, 1061, 1101, 1276, 1291, 1649],\n",
       "       dtype=int64))"
      ]
     },
     "execution_count": 351,
     "metadata": {},
     "output_type": "execute_result"
    }
   ],
   "source": [
    "generate_simulated_data()"
   ]
  },
  {
   "cell_type": "code",
   "execution_count": 352,
   "metadata": {},
   "outputs": [
    {
     "data": {
      "text/html": [
       "<div>\n",
       "<style scoped>\n",
       "    .dataframe tbody tr th:only-of-type {\n",
       "        vertical-align: middle;\n",
       "    }\n",
       "\n",
       "    .dataframe tbody tr th {\n",
       "        vertical-align: top;\n",
       "    }\n",
       "\n",
       "    .dataframe thead th {\n",
       "        text-align: right;\n",
       "    }\n",
       "</style>\n",
       "<table border=\"1\" class=\"dataframe\">\n",
       "  <thead>\n",
       "    <tr style=\"text-align: right;\">\n",
       "      <th></th>\n",
       "      <th>y</th>\n",
       "    </tr>\n",
       "  </thead>\n",
       "  <tbody>\n",
       "    <tr>\n",
       "      <th>count</th>\n",
       "      <td>1004.000000</td>\n",
       "    </tr>\n",
       "    <tr>\n",
       "      <th>mean</th>\n",
       "      <td>-1.110913</td>\n",
       "    </tr>\n",
       "    <tr>\n",
       "      <th>std</th>\n",
       "      <td>82.756235</td>\n",
       "    </tr>\n",
       "    <tr>\n",
       "      <th>min</th>\n",
       "      <td>-294.983030</td>\n",
       "    </tr>\n",
       "    <tr>\n",
       "      <th>25%</th>\n",
       "      <td>-51.369993</td>\n",
       "    </tr>\n",
       "    <tr>\n",
       "      <th>50%</th>\n",
       "      <td>-2.403437</td>\n",
       "    </tr>\n",
       "    <tr>\n",
       "      <th>75%</th>\n",
       "      <td>49.776675</td>\n",
       "    </tr>\n",
       "    <tr>\n",
       "      <th>max</th>\n",
       "      <td>273.040609</td>\n",
       "    </tr>\n",
       "  </tbody>\n",
       "</table>\n",
       "</div>"
      ],
      "text/plain": [
       "                 y\n",
       "count  1004.000000\n",
       "mean     -1.110913\n",
       "std      82.756235\n",
       "min    -294.983030\n",
       "25%     -51.369993\n",
       "50%      -2.403437\n",
       "75%      49.776675\n",
       "max     273.040609"
      ]
     },
     "execution_count": 352,
     "metadata": {},
     "output_type": "execute_result"
    }
   ],
   "source": [
    "y_df.describe()"
   ]
  },
  {
   "cell_type": "code",
   "execution_count": 353,
   "metadata": {},
   "outputs": [
    {
     "data": {
      "text/markdown": [
       "**Preview of Test Data:**"
      ],
      "text/plain": [
       "<IPython.core.display.Markdown object>"
      ]
     },
     "metadata": {},
     "output_type": "display_data"
    },
    {
     "data": {
      "text/html": [
       "<div>\n",
       "<style scoped>\n",
       "    .dataframe tbody tr th:only-of-type {\n",
       "        vertical-align: middle;\n",
       "    }\n",
       "\n",
       "    .dataframe tbody tr th {\n",
       "        vertical-align: top;\n",
       "    }\n",
       "\n",
       "    .dataframe thead th {\n",
       "        text-align: right;\n",
       "    }\n",
       "</style>\n",
       "<table border=\"1\" class=\"dataframe\">\n",
       "  <thead>\n",
       "    <tr style=\"text-align: right;\">\n",
       "      <th></th>\n",
       "      <th>Variable_1</th>\n",
       "      <th>Variable_2</th>\n",
       "      <th>Variable_3</th>\n",
       "      <th>Variable_4</th>\n",
       "      <th>Variable_5</th>\n",
       "      <th>Variable_6</th>\n",
       "      <th>Variable_7</th>\n",
       "      <th>Variable_8</th>\n",
       "      <th>Variable_9</th>\n",
       "      <th>Variable_10</th>\n",
       "      <th>y</th>\n",
       "    </tr>\n",
       "  </thead>\n",
       "  <tbody>\n",
       "    <tr>\n",
       "      <th>0</th>\n",
       "      <td>3.882026</td>\n",
       "      <td>3.200079</td>\n",
       "      <td>3.489369</td>\n",
       "      <td>4.120447</td>\n",
       "      <td>3.933779</td>\n",
       "      <td>2.511361</td>\n",
       "      <td>3.475044</td>\n",
       "      <td>2.924321</td>\n",
       "      <td>2.948391</td>\n",
       "      <td>3.205299</td>\n",
       "      <td>2.559627</td>\n",
       "    </tr>\n",
       "    <tr>\n",
       "      <th>1</th>\n",
       "      <td>3.072022</td>\n",
       "      <td>3.727137</td>\n",
       "      <td>3.380519</td>\n",
       "      <td>3.060838</td>\n",
       "      <td>3.221932</td>\n",
       "      <td>3.166837</td>\n",
       "      <td>3.747040</td>\n",
       "      <td>2.897421</td>\n",
       "      <td>3.156534</td>\n",
       "      <td>2.572952</td>\n",
       "      <td>5.924739</td>\n",
       "    </tr>\n",
       "    <tr>\n",
       "      <th>2</th>\n",
       "      <td>1.723505</td>\n",
       "      <td>3.326809</td>\n",
       "      <td>3.432218</td>\n",
       "      <td>2.628917</td>\n",
       "      <td>4.134877</td>\n",
       "      <td>2.272817</td>\n",
       "      <td>3.022879</td>\n",
       "      <td>2.906408</td>\n",
       "      <td>3.766390</td>\n",
       "      <td>3.734679</td>\n",
       "      <td>-7.223148</td>\n",
       "    </tr>\n",
       "  </tbody>\n",
       "</table>\n",
       "</div>"
      ],
      "text/plain": [
       "   Variable_1  Variable_2  Variable_3  Variable_4  Variable_5  Variable_6  \\\n",
       "0    3.882026    3.200079    3.489369    4.120447    3.933779    2.511361   \n",
       "1    3.072022    3.727137    3.380519    3.060838    3.221932    3.166837   \n",
       "2    1.723505    3.326809    3.432218    2.628917    4.134877    2.272817   \n",
       "\n",
       "   Variable_7  Variable_8  Variable_9  Variable_10         y  \n",
       "0    3.475044    2.924321    2.948391     3.205299  2.559627  \n",
       "1    3.747040    2.897421    3.156534     2.572952  5.924739  \n",
       "2    3.022879    2.906408    3.766390     3.734679 -7.223148  "
      ]
     },
     "metadata": {},
     "output_type": "display_data"
    }
   ],
   "source": [
    "'''Let\"s take a quick look at the data'''\n",
    "\n",
    "bold('**Preview of Test Data:**')\n",
    "display(df.head(3))"
   ]
  },
  {
   "cell_type": "code",
   "execution_count": 354,
   "metadata": {},
   "outputs": [
    {
     "data": {
      "text/markdown": [
       "**Preview Descriptive statistics transposed:**"
      ],
      "text/plain": [
       "<IPython.core.display.Markdown object>"
      ]
     },
     "metadata": {},
     "output_type": "display_data"
    },
    {
     "data": {
      "text/html": [
       "<div>\n",
       "<style scoped>\n",
       "    .dataframe tbody tr th:only-of-type {\n",
       "        vertical-align: middle;\n",
       "    }\n",
       "\n",
       "    .dataframe tbody tr th {\n",
       "        vertical-align: top;\n",
       "    }\n",
       "\n",
       "    .dataframe thead th {\n",
       "        text-align: right;\n",
       "    }\n",
       "</style>\n",
       "<table border=\"1\" class=\"dataframe\">\n",
       "  <thead>\n",
       "    <tr style=\"text-align: right;\">\n",
       "      <th></th>\n",
       "      <th>count</th>\n",
       "      <th>mean</th>\n",
       "      <th>std</th>\n",
       "      <th>min</th>\n",
       "      <th>25%</th>\n",
       "      <th>50%</th>\n",
       "      <th>75%</th>\n",
       "      <th>max</th>\n",
       "    </tr>\n",
       "  </thead>\n",
       "  <tbody>\n",
       "    <tr>\n",
       "      <th>Variable_1</th>\n",
       "      <td>1004.0</td>\n",
       "      <td>0.307572</td>\n",
       "      <td>1.333512</td>\n",
       "      <td>-5.014379</td>\n",
       "      <td>-0.658604</td>\n",
       "      <td>0.154327</td>\n",
       "      <td>1.021182</td>\n",
       "      <td>4.681469</td>\n",
       "    </tr>\n",
       "    <tr>\n",
       "      <th>Variable_2</th>\n",
       "      <td>1004.0</td>\n",
       "      <td>0.273132</td>\n",
       "      <td>1.320900</td>\n",
       "      <td>-3.548802</td>\n",
       "      <td>-0.613511</td>\n",
       "      <td>0.143026</td>\n",
       "      <td>0.894698</td>\n",
       "      <td>4.526580</td>\n",
       "    </tr>\n",
       "    <tr>\n",
       "      <th>Variable_3</th>\n",
       "      <td>1004.0</td>\n",
       "      <td>0.263653</td>\n",
       "      <td>1.357688</td>\n",
       "      <td>-4.181777</td>\n",
       "      <td>-0.611128</td>\n",
       "      <td>0.085699</td>\n",
       "      <td>0.897709</td>\n",
       "      <td>4.288812</td>\n",
       "    </tr>\n",
       "    <tr>\n",
       "      <th>Variable_4</th>\n",
       "      <td>1004.0</td>\n",
       "      <td>0.320093</td>\n",
       "      <td>1.306025</td>\n",
       "      <td>-4.728282</td>\n",
       "      <td>-0.537340</td>\n",
       "      <td>0.143630</td>\n",
       "      <td>0.974141</td>\n",
       "      <td>4.919890</td>\n",
       "    </tr>\n",
       "    <tr>\n",
       "      <th>Variable_5</th>\n",
       "      <td>1004.0</td>\n",
       "      <td>0.293229</td>\n",
       "      <td>1.327167</td>\n",
       "      <td>-3.911840</td>\n",
       "      <td>-0.645975</td>\n",
       "      <td>0.108697</td>\n",
       "      <td>0.999380</td>\n",
       "      <td>4.733222</td>\n",
       "    </tr>\n",
       "    <tr>\n",
       "      <th>Variable_6</th>\n",
       "      <td>1004.0</td>\n",
       "      <td>0.276310</td>\n",
       "      <td>1.332140</td>\n",
       "      <td>-4.465067</td>\n",
       "      <td>-0.604683</td>\n",
       "      <td>0.094485</td>\n",
       "      <td>0.906053</td>\n",
       "      <td>4.206227</td>\n",
       "    </tr>\n",
       "    <tr>\n",
       "      <th>Variable_7</th>\n",
       "      <td>1004.0</td>\n",
       "      <td>0.320080</td>\n",
       "      <td>1.313570</td>\n",
       "      <td>-3.715004</td>\n",
       "      <td>-0.566903</td>\n",
       "      <td>0.149091</td>\n",
       "      <td>0.985505</td>\n",
       "      <td>4.546483</td>\n",
       "    </tr>\n",
       "    <tr>\n",
       "      <th>Variable_8</th>\n",
       "      <td>1004.0</td>\n",
       "      <td>0.239629</td>\n",
       "      <td>1.334255</td>\n",
       "      <td>-3.831476</td>\n",
       "      <td>-0.639093</td>\n",
       "      <td>0.011132</td>\n",
       "      <td>0.909687</td>\n",
       "      <td>4.128362</td>\n",
       "    </tr>\n",
       "    <tr>\n",
       "      <th>Variable_9</th>\n",
       "      <td>1004.0</td>\n",
       "      <td>0.307406</td>\n",
       "      <td>1.320286</td>\n",
       "      <td>-3.931547</td>\n",
       "      <td>-0.563410</td>\n",
       "      <td>0.131300</td>\n",
       "      <td>0.965504</td>\n",
       "      <td>4.297212</td>\n",
       "    </tr>\n",
       "    <tr>\n",
       "      <th>Variable_10</th>\n",
       "      <td>1004.0</td>\n",
       "      <td>0.276740</td>\n",
       "      <td>1.345344</td>\n",
       "      <td>-3.889035</td>\n",
       "      <td>-0.567618</td>\n",
       "      <td>0.111726</td>\n",
       "      <td>0.924573</td>\n",
       "      <td>4.190373</td>\n",
       "    </tr>\n",
       "    <tr>\n",
       "      <th>y</th>\n",
       "      <td>1004.0</td>\n",
       "      <td>-1.110913</td>\n",
       "      <td>82.756235</td>\n",
       "      <td>-294.983030</td>\n",
       "      <td>-51.369993</td>\n",
       "      <td>-2.403437</td>\n",
       "      <td>49.776675</td>\n",
       "      <td>273.040609</td>\n",
       "    </tr>\n",
       "  </tbody>\n",
       "</table>\n",
       "</div>"
      ],
      "text/plain": [
       "              count      mean        std         min        25%       50%  \\\n",
       "Variable_1   1004.0  0.307572   1.333512   -5.014379  -0.658604  0.154327   \n",
       "Variable_2   1004.0  0.273132   1.320900   -3.548802  -0.613511  0.143026   \n",
       "Variable_3   1004.0  0.263653   1.357688   -4.181777  -0.611128  0.085699   \n",
       "Variable_4   1004.0  0.320093   1.306025   -4.728282  -0.537340  0.143630   \n",
       "Variable_5   1004.0  0.293229   1.327167   -3.911840  -0.645975  0.108697   \n",
       "Variable_6   1004.0  0.276310   1.332140   -4.465067  -0.604683  0.094485   \n",
       "Variable_7   1004.0  0.320080   1.313570   -3.715004  -0.566903  0.149091   \n",
       "Variable_8   1004.0  0.239629   1.334255   -3.831476  -0.639093  0.011132   \n",
       "Variable_9   1004.0  0.307406   1.320286   -3.931547  -0.563410  0.131300   \n",
       "Variable_10  1004.0  0.276740   1.345344   -3.889035  -0.567618  0.111726   \n",
       "y            1004.0 -1.110913  82.756235 -294.983030 -51.369993 -2.403437   \n",
       "\n",
       "                   75%         max  \n",
       "Variable_1    1.021182    4.681469  \n",
       "Variable_2    0.894698    4.526580  \n",
       "Variable_3    0.897709    4.288812  \n",
       "Variable_4    0.974141    4.919890  \n",
       "Variable_5    0.999380    4.733222  \n",
       "Variable_6    0.906053    4.206227  \n",
       "Variable_7    0.985505    4.546483  \n",
       "Variable_8    0.909687    4.128362  \n",
       "Variable_9    0.965504    4.297212  \n",
       "Variable_10   0.924573    4.190373  \n",
       "y            49.776675  273.040609  "
      ]
     },
     "metadata": {},
     "output_type": "display_data"
    }
   ],
   "source": [
    "bold('**Preview Descriptive statistics transposed:**')\n",
    "display(df.describe().T)"
   ]
  },
  {
   "cell_type": "code",
   "execution_count": 355,
   "metadata": {},
   "outputs": [
    {
     "data": {
      "text/markdown": [
       "**Preview of Predictor Variable:**"
      ],
      "text/plain": [
       "<IPython.core.display.Markdown object>"
      ]
     },
     "metadata": {},
     "output_type": "display_data"
    },
    {
     "data": {
      "text/html": [
       "<div>\n",
       "<style scoped>\n",
       "    .dataframe tbody tr th:only-of-type {\n",
       "        vertical-align: middle;\n",
       "    }\n",
       "\n",
       "    .dataframe tbody tr th {\n",
       "        vertical-align: top;\n",
       "    }\n",
       "\n",
       "    .dataframe thead th {\n",
       "        text-align: right;\n",
       "    }\n",
       "</style>\n",
       "<table border=\"1\" class=\"dataframe\">\n",
       "  <thead>\n",
       "    <tr style=\"text-align: right;\">\n",
       "      <th></th>\n",
       "      <th>y</th>\n",
       "    </tr>\n",
       "  </thead>\n",
       "  <tbody>\n",
       "    <tr>\n",
       "      <th>0</th>\n",
       "      <td>2.559627</td>\n",
       "    </tr>\n",
       "    <tr>\n",
       "      <th>1</th>\n",
       "      <td>5.924739</td>\n",
       "    </tr>\n",
       "    <tr>\n",
       "      <th>2</th>\n",
       "      <td>-7.223148</td>\n",
       "    </tr>\n",
       "    <tr>\n",
       "      <th>3</th>\n",
       "      <td>-1.952860</td>\n",
       "    </tr>\n",
       "    <tr>\n",
       "      <th>4</th>\n",
       "      <td>-0.719467</td>\n",
       "    </tr>\n",
       "  </tbody>\n",
       "</table>\n",
       "</div>"
      ],
      "text/plain": [
       "          y\n",
       "0  2.559627\n",
       "1  5.924739\n",
       "2 -7.223148\n",
       "3 -1.952860\n",
       "4 -0.719467"
      ]
     },
     "execution_count": 355,
     "metadata": {},
     "output_type": "execute_result"
    }
   ],
   "source": [
    "bold('**Preview of Predictor Variable:**')\n",
    "y_df.head()"
   ]
  },
  {
   "cell_type": "code",
   "execution_count": 356,
   "metadata": {},
   "outputs": [
    {
     "data": {
      "text/markdown": [
       "**Check .info() to see if there are any missing variables:**"
      ],
      "text/plain": [
       "<IPython.core.display.Markdown object>"
      ]
     },
     "metadata": {},
     "output_type": "display_data"
    },
    {
     "name": "stdout",
     "output_type": "stream",
     "text": [
      "<class 'pandas.core.frame.DataFrame'>\n",
      "RangeIndex: 1004 entries, 0 to 1003\n",
      "Data columns (total 11 columns):\n",
      "Variable_1     1004 non-null float64\n",
      "Variable_2     1004 non-null float64\n",
      "Variable_3     1004 non-null float64\n",
      "Variable_4     1004 non-null float64\n",
      "Variable_5     1004 non-null float64\n",
      "Variable_6     1004 non-null float64\n",
      "Variable_7     1004 non-null float64\n",
      "Variable_8     1004 non-null float64\n",
      "Variable_9     1004 non-null float64\n",
      "Variable_10    1004 non-null float64\n",
      "y              1004 non-null float64\n",
      "dtypes: float64(11)\n",
      "memory usage: 86.4 KB\n"
     ]
    }
   ],
   "source": [
    "bold('**Check .info() to see if there are any missing variables:**')\n",
    "df.info()"
   ]
  },
  {
   "cell_type": "markdown",
   "metadata": {},
   "source": [
    "<a id='step4'></a>"
   ]
  },
  {
   "cell_type": "code",
   "execution_count": 357,
   "metadata": {},
   "outputs": [
    {
     "data": {
      "text/markdown": [
       "**Data types of our variables:**"
      ],
      "text/plain": [
       "<IPython.core.display.Markdown object>"
      ]
     },
     "metadata": {},
     "output_type": "display_data"
    },
    {
     "data": {
      "text/plain": [
       "float64    11\n",
       "dtype: int64"
      ]
     },
     "metadata": {},
     "output_type": "display_data"
    }
   ],
   "source": [
    "\"\"\"Let's first inspect how many kinds of data types that we have to deal with.\"\"\"\n",
    "bold('**Data types of our variables:**')\n",
    "display(df.dtypes.value_counts())"
   ]
  },
  {
   "cell_type": "code",
   "execution_count": 358,
   "metadata": {},
   "outputs": [
    {
     "data": {
      "text/markdown": [
       "**Numerical variables:**"
      ],
      "text/plain": [
       "<IPython.core.display.Markdown object>"
      ]
     },
     "metadata": {},
     "output_type": "display_data"
    },
    {
     "data": {
      "text/html": [
       "<div>\n",
       "<style scoped>\n",
       "    .dataframe tbody tr th:only-of-type {\n",
       "        vertical-align: middle;\n",
       "    }\n",
       "\n",
       "    .dataframe tbody tr th {\n",
       "        vertical-align: top;\n",
       "    }\n",
       "\n",
       "    .dataframe thead th {\n",
       "        text-align: right;\n",
       "    }\n",
       "</style>\n",
       "<table border=\"1\" class=\"dataframe\">\n",
       "  <thead>\n",
       "    <tr style=\"text-align: right;\">\n",
       "      <th></th>\n",
       "      <th>Variable_1</th>\n",
       "      <th>Variable_2</th>\n",
       "      <th>Variable_3</th>\n",
       "      <th>Variable_4</th>\n",
       "      <th>Variable_5</th>\n",
       "      <th>Variable_6</th>\n",
       "      <th>Variable_7</th>\n",
       "      <th>Variable_8</th>\n",
       "      <th>Variable_9</th>\n",
       "      <th>Variable_10</th>\n",
       "      <th>y</th>\n",
       "    </tr>\n",
       "  </thead>\n",
       "  <tbody>\n",
       "    <tr>\n",
       "      <th>0</th>\n",
       "      <td>3.882026</td>\n",
       "      <td>3.200079</td>\n",
       "      <td>3.489369</td>\n",
       "      <td>4.120447</td>\n",
       "      <td>3.933779</td>\n",
       "      <td>2.511361</td>\n",
       "      <td>3.475044</td>\n",
       "      <td>2.924321</td>\n",
       "      <td>2.948391</td>\n",
       "      <td>3.205299</td>\n",
       "      <td>2.559627</td>\n",
       "    </tr>\n",
       "    <tr>\n",
       "      <th>1</th>\n",
       "      <td>3.072022</td>\n",
       "      <td>3.727137</td>\n",
       "      <td>3.380519</td>\n",
       "      <td>3.060838</td>\n",
       "      <td>3.221932</td>\n",
       "      <td>3.166837</td>\n",
       "      <td>3.747040</td>\n",
       "      <td>2.897421</td>\n",
       "      <td>3.156534</td>\n",
       "      <td>2.572952</td>\n",
       "      <td>5.924739</td>\n",
       "    </tr>\n",
       "    <tr>\n",
       "      <th>2</th>\n",
       "      <td>1.723505</td>\n",
       "      <td>3.326809</td>\n",
       "      <td>3.432218</td>\n",
       "      <td>2.628917</td>\n",
       "      <td>4.134877</td>\n",
       "      <td>2.272817</td>\n",
       "      <td>3.022879</td>\n",
       "      <td>2.906408</td>\n",
       "      <td>3.766390</td>\n",
       "      <td>3.734679</td>\n",
       "      <td>-7.223148</td>\n",
       "    </tr>\n",
       "  </tbody>\n",
       "</table>\n",
       "</div>"
      ],
      "text/plain": [
       "   Variable_1  Variable_2  Variable_3  Variable_4  Variable_5  Variable_6  \\\n",
       "0    3.882026    3.200079    3.489369    4.120447    3.933779    2.511361   \n",
       "1    3.072022    3.727137    3.380519    3.060838    3.221932    3.166837   \n",
       "2    1.723505    3.326809    3.432218    2.628917    4.134877    2.272817   \n",
       "\n",
       "   Variable_7  Variable_8  Variable_9  Variable_10         y  \n",
       "0    3.475044    2.924321    2.948391     3.205299  2.559627  \n",
       "1    3.747040    2.897421    3.156534     2.572952  5.924739  \n",
       "2    3.022879    2.906408    3.766390     3.734679 -7.223148  "
      ]
     },
     "metadata": {},
     "output_type": "display_data"
    },
    {
     "data": {
      "text/markdown": [
       "**Name of numerical variables:**"
      ],
      "text/plain": [
       "<IPython.core.display.Markdown object>"
      ]
     },
     "metadata": {},
     "output_type": "display_data"
    },
    {
     "data": {
      "text/plain": [
       "array(['Variable_1', 'Variable_2', 'Variable_3', 'Variable_4',\n",
       "       'Variable_5', 'Variable_6', 'Variable_7', 'Variable_8',\n",
       "       'Variable_9', 'Variable_10', 'y'], dtype=object)"
      ]
     },
     "metadata": {},
     "output_type": "display_data"
    }
   ],
   "source": [
    "'''In case you have object data types, extract numerical variables first.'''\n",
    "num_df = df.select_dtypes(include = ['int64', 'float64'])\n",
    "bold('**Numerical variables:**')\n",
    "display(num_df.head(3))\n",
    "bold('**Name of numerical variables:**')\n",
    "display(num_df.columns.values)\n",
    "\n"
   ]
  },
  {
   "cell_type": "markdown",
   "metadata": {},
   "source": []
  },
  {
   "cell_type": "code",
   "execution_count": null,
   "metadata": {},
   "outputs": [],
   "source": []
  },
  {
   "cell_type": "markdown",
   "metadata": {},
   "source": [
    "# Step 4: Clean Data"
   ]
  },
  {
   "cell_type": "markdown",
   "metadata": {},
   "source": [
    "Real, raw data is rarely usable out of the box. There are errors in data collection, corrupt records, missing values and many other challenges you will have to manage. You will first need to clean the data to convert it to a form that you can further analyze.\n",
    "\n",
    "\n",
    "### Data Model:\n",
    "\n",
    " - Drop duplicate columns\n",
    " - Replace/drop missing values\n",
    " - Remove/ windsorize outliers\n",
    " - Remove unwanted string characters\n",
    "    \n",
    "\n",
    "### Science Model:\n",
    "\n",
    "- Scaling: The preprocessed data may contain attributes with a mixtures of scales for various quantities such as dollars, kilograms and sales volume. Many machine learning methods like data attributes to have the same scale such as between 0 and 1 for the smallest and largest value for a given feature. Consider any feature scaling you may need to perform.\n",
    "- Decomposition: There may be features that represent a complex concept that may be more useful to a machine learning method when split into the constituent parts. An example is a date that may have day and time components that in turn could be split out further. Perhaps only the hour of day is relevant to the problem being solved. consider what feature decompositions you can perform.\n",
    "- Sampling: \n",
    "\n",
    "\n",
    "Resource: https://machinelearningmastery.com/how-to-prepare-data-for-machine-learning/"
   ]
  },
  {
   "cell_type": "markdown",
   "metadata": {},
   "source": []
  },
  {
   "cell_type": "code",
   "execution_count": 359,
   "metadata": {},
   "outputs": [
    {
     "data": {
      "text/plain": [
       "' Handling Missing Data '"
      ]
     },
     "execution_count": 359,
     "metadata": {},
     "output_type": "execute_result"
    }
   ],
   "source": [
    "''' Handling Missing Data '''"
   ]
  },
  {
   "cell_type": "code",
   "execution_count": 360,
   "metadata": {},
   "outputs": [],
   "source": [
    "col_mask=df.isnull().any(axis=0)  # returns a boolean mask indicating np.nan values."
   ]
  },
  {
   "cell_type": "code",
   "execution_count": 361,
   "metadata": {},
   "outputs": [],
   "source": [
    "row_mask=df.isnull().any(axis=1) # return the rows where np.nan appeared"
   ]
  },
  {
   "cell_type": "code",
   "execution_count": 362,
   "metadata": {},
   "outputs": [
    {
     "data": {
      "text/html": [
       "<div>\n",
       "<style scoped>\n",
       "    .dataframe tbody tr th:only-of-type {\n",
       "        vertical-align: middle;\n",
       "    }\n",
       "\n",
       "    .dataframe tbody tr th {\n",
       "        vertical-align: top;\n",
       "    }\n",
       "\n",
       "    .dataframe thead th {\n",
       "        text-align: right;\n",
       "    }\n",
       "</style>\n",
       "<table border=\"1\" class=\"dataframe\">\n",
       "  <thead>\n",
       "    <tr style=\"text-align: right;\">\n",
       "      <th></th>\n",
       "    </tr>\n",
       "  </thead>\n",
       "  <tbody>\n",
       "  </tbody>\n",
       "</table>\n",
       "</div>"
      ],
      "text/plain": [
       "Empty DataFrame\n",
       "Columns: []\n",
       "Index: []"
      ]
     },
     "execution_count": 362,
     "metadata": {},
     "output_type": "execute_result"
    }
   ],
   "source": [
    "df.loc[row_mask,col_mask]  # by simple indexing you can flag all of your points that are np.nan."
   ]
  },
  {
   "cell_type": "code",
   "execution_count": 363,
   "metadata": {},
   "outputs": [],
   "source": [
    "# Now for this analysis, we are simply going to set all NaN to 0, but you could replance with mean or median. \n",
    "\n",
    "df.fillna(df.mean(), inplace=True)"
   ]
  },
  {
   "cell_type": "code",
   "execution_count": 364,
   "metadata": {},
   "outputs": [
    {
     "data": {
      "text/html": [
       "<div>\n",
       "<style scoped>\n",
       "    .dataframe tbody tr th:only-of-type {\n",
       "        vertical-align: middle;\n",
       "    }\n",
       "\n",
       "    .dataframe tbody tr th {\n",
       "        vertical-align: top;\n",
       "    }\n",
       "\n",
       "    .dataframe thead th {\n",
       "        text-align: right;\n",
       "    }\n",
       "</style>\n",
       "<table border=\"1\" class=\"dataframe\">\n",
       "  <thead>\n",
       "    <tr style=\"text-align: right;\">\n",
       "      <th></th>\n",
       "      <th>Variable_1</th>\n",
       "      <th>Variable_2</th>\n",
       "      <th>Variable_3</th>\n",
       "      <th>Variable_4</th>\n",
       "      <th>Variable_5</th>\n",
       "      <th>Variable_6</th>\n",
       "      <th>Variable_7</th>\n",
       "      <th>Variable_8</th>\n",
       "      <th>Variable_9</th>\n",
       "      <th>Variable_10</th>\n",
       "      <th>y</th>\n",
       "    </tr>\n",
       "  </thead>\n",
       "  <tbody>\n",
       "    <tr>\n",
       "      <th>count</th>\n",
       "      <td>1004.000000</td>\n",
       "      <td>1004.000000</td>\n",
       "      <td>1004.000000</td>\n",
       "      <td>1004.000000</td>\n",
       "      <td>1004.000000</td>\n",
       "      <td>1004.000000</td>\n",
       "      <td>1004.000000</td>\n",
       "      <td>1004.000000</td>\n",
       "      <td>1004.000000</td>\n",
       "      <td>1004.000000</td>\n",
       "      <td>1004.000000</td>\n",
       "    </tr>\n",
       "    <tr>\n",
       "      <th>mean</th>\n",
       "      <td>0.307572</td>\n",
       "      <td>0.273132</td>\n",
       "      <td>0.263653</td>\n",
       "      <td>0.320093</td>\n",
       "      <td>0.293229</td>\n",
       "      <td>0.276310</td>\n",
       "      <td>0.320080</td>\n",
       "      <td>0.239629</td>\n",
       "      <td>0.307406</td>\n",
       "      <td>0.276740</td>\n",
       "      <td>-1.110913</td>\n",
       "    </tr>\n",
       "    <tr>\n",
       "      <th>std</th>\n",
       "      <td>1.333512</td>\n",
       "      <td>1.320900</td>\n",
       "      <td>1.357688</td>\n",
       "      <td>1.306025</td>\n",
       "      <td>1.327167</td>\n",
       "      <td>1.332140</td>\n",
       "      <td>1.313570</td>\n",
       "      <td>1.334255</td>\n",
       "      <td>1.320286</td>\n",
       "      <td>1.345344</td>\n",
       "      <td>82.756235</td>\n",
       "    </tr>\n",
       "    <tr>\n",
       "      <th>min</th>\n",
       "      <td>-5.014379</td>\n",
       "      <td>-3.548802</td>\n",
       "      <td>-4.181777</td>\n",
       "      <td>-4.728282</td>\n",
       "      <td>-3.911840</td>\n",
       "      <td>-4.465067</td>\n",
       "      <td>-3.715004</td>\n",
       "      <td>-3.831476</td>\n",
       "      <td>-3.931547</td>\n",
       "      <td>-3.889035</td>\n",
       "      <td>-294.983030</td>\n",
       "    </tr>\n",
       "    <tr>\n",
       "      <th>25%</th>\n",
       "      <td>-0.658604</td>\n",
       "      <td>-0.613511</td>\n",
       "      <td>-0.611128</td>\n",
       "      <td>-0.537340</td>\n",
       "      <td>-0.645975</td>\n",
       "      <td>-0.604683</td>\n",
       "      <td>-0.566903</td>\n",
       "      <td>-0.639093</td>\n",
       "      <td>-0.563410</td>\n",
       "      <td>-0.567618</td>\n",
       "      <td>-51.369993</td>\n",
       "    </tr>\n",
       "    <tr>\n",
       "      <th>50%</th>\n",
       "      <td>0.154327</td>\n",
       "      <td>0.143026</td>\n",
       "      <td>0.085699</td>\n",
       "      <td>0.143630</td>\n",
       "      <td>0.108697</td>\n",
       "      <td>0.094485</td>\n",
       "      <td>0.149091</td>\n",
       "      <td>0.011132</td>\n",
       "      <td>0.131300</td>\n",
       "      <td>0.111726</td>\n",
       "      <td>-2.403437</td>\n",
       "    </tr>\n",
       "    <tr>\n",
       "      <th>75%</th>\n",
       "      <td>1.021182</td>\n",
       "      <td>0.894698</td>\n",
       "      <td>0.897709</td>\n",
       "      <td>0.974141</td>\n",
       "      <td>0.999380</td>\n",
       "      <td>0.906053</td>\n",
       "      <td>0.985505</td>\n",
       "      <td>0.909687</td>\n",
       "      <td>0.965504</td>\n",
       "      <td>0.924573</td>\n",
       "      <td>49.776675</td>\n",
       "    </tr>\n",
       "    <tr>\n",
       "      <th>max</th>\n",
       "      <td>4.681469</td>\n",
       "      <td>4.526580</td>\n",
       "      <td>4.288812</td>\n",
       "      <td>4.919890</td>\n",
       "      <td>4.733222</td>\n",
       "      <td>4.206227</td>\n",
       "      <td>4.546483</td>\n",
       "      <td>4.128362</td>\n",
       "      <td>4.297212</td>\n",
       "      <td>4.190373</td>\n",
       "      <td>273.040609</td>\n",
       "    </tr>\n",
       "  </tbody>\n",
       "</table>\n",
       "</div>"
      ],
      "text/plain": [
       "        Variable_1   Variable_2   Variable_3   Variable_4   Variable_5  \\\n",
       "count  1004.000000  1004.000000  1004.000000  1004.000000  1004.000000   \n",
       "mean      0.307572     0.273132     0.263653     0.320093     0.293229   \n",
       "std       1.333512     1.320900     1.357688     1.306025     1.327167   \n",
       "min      -5.014379    -3.548802    -4.181777    -4.728282    -3.911840   \n",
       "25%      -0.658604    -0.613511    -0.611128    -0.537340    -0.645975   \n",
       "50%       0.154327     0.143026     0.085699     0.143630     0.108697   \n",
       "75%       1.021182     0.894698     0.897709     0.974141     0.999380   \n",
       "max       4.681469     4.526580     4.288812     4.919890     4.733222   \n",
       "\n",
       "        Variable_6   Variable_7   Variable_8   Variable_9  Variable_10  \\\n",
       "count  1004.000000  1004.000000  1004.000000  1004.000000  1004.000000   \n",
       "mean      0.276310     0.320080     0.239629     0.307406     0.276740   \n",
       "std       1.332140     1.313570     1.334255     1.320286     1.345344   \n",
       "min      -4.465067    -3.715004    -3.831476    -3.931547    -3.889035   \n",
       "25%      -0.604683    -0.566903    -0.639093    -0.563410    -0.567618   \n",
       "50%       0.094485     0.149091     0.011132     0.131300     0.111726   \n",
       "75%       0.906053     0.985505     0.909687     0.965504     0.924573   \n",
       "max       4.206227     4.546483     4.128362     4.297212     4.190373   \n",
       "\n",
       "                 y  \n",
       "count  1004.000000  \n",
       "mean     -1.110913  \n",
       "std      82.756235  \n",
       "min    -294.983030  \n",
       "25%     -51.369993  \n",
       "50%      -2.403437  \n",
       "75%      49.776675  \n",
       "max     273.040609  "
      ]
     },
     "execution_count": 364,
     "metadata": {},
     "output_type": "execute_result"
    }
   ],
   "source": [
    "df.describe()"
   ]
  },
  {
   "cell_type": "markdown",
   "metadata": {},
   "source": [
    "<a id='step5'></a>"
   ]
  },
  {
   "cell_type": "markdown",
   "metadata": {},
   "source": [
    "# Step 5: Explore Data "
   ]
  },
  {
   "cell_type": "markdown",
   "metadata": {},
   "source": [
    "Perform in-depth analysis (machine learning, statistical models, algorithms): This step is usually the meat of your project,where you apply all the cutting-edge machinery of data analysis to unearth high-value insights and predictions."
   ]
  },
  {
   "cell_type": "code",
   "execution_count": null,
   "metadata": {},
   "outputs": [],
   "source": []
  },
  {
   "cell_type": "code",
   "execution_count": 365,
   "metadata": {},
   "outputs": [
    {
     "data": {
      "image/png": "[encoded data removed]",
      "text/plain": [
       "<Figure size 1440x1440 with 10 Axes>"
      ]
     },
     "metadata": {},
     "output_type": "display_data"
    }
   ],
   "source": [
    "'''Plot histogram of numerical variables to validate pandas intuition.'''\n",
    "''' Here we use  len(num_df.columns)//2 to assign the figure the number of rows'''\n",
    "\n",
    "fig, axes = plt.subplots(nrows = len(num_df.columns)//2, ncols = 2, figsize = (20, 20))\n",
    "for ax, column in zip(axes.flatten(), num_df.columns):\n",
    "    sns.distplot(num_df[column].dropna(), ax = ax, color = 'darkred')\n",
    "    ax.set_title(column, fontsize = 43)\n",
    "    ax.tick_params(axis = 'both', which = 'major', labelsize = 35)\n",
    "    ax.tick_params(axis = 'both', which = 'minor', labelsize = 35)\n",
    "    ax.set_xlabel('')\n",
    "fig.tight_layout(rect = [0, 0.03, 1, 0.95])"
   ]
  },
  {
   "cell_type": "code",
   "execution_count": 366,
   "metadata": {},
   "outputs": [
    {
     "data": {
      "text/markdown": [
       "**Important: If you see any categorical variables, uncomment and run the below code:**"
      ],
      "text/plain": [
       "<IPython.core.display.Markdown object>"
      ]
     },
     "metadata": {},
     "output_type": "display_data"
    },
    {
     "data": {
      "text/plain": [
       "' You will need to read in the colmn names'"
      ]
     },
     "execution_count": 366,
     "metadata": {},
     "output_type": "execute_result"
    }
   ],
   "source": [
    "''' Now, based on the above distributions'''\n",
    "''' Identify and numeric variables that should be object variables'''\n",
    "''' We will want to convert them into categorical'''\n",
    "\n",
    "bold('**Important: If you see any categorical variables, uncomment and run the below code:**')\n",
    "\n",
    "''' You will need to read in the colmn names'''\n",
    "\n",
    "#num_df.loc[:,['Variable_10', 'Variable_2', 'Variable_3']] = num_df.loc[:,['Variable_10', 'Variable_2', 'Variable_3']].astype('object')"
   ]
  },
  {
   "cell_type": "code",
   "execution_count": 367,
   "metadata": {},
   "outputs": [],
   "source": [
    "'''Function to plot bar chart'''\n",
    "def bar_plot(x, y, title, yaxis, c_scale):\n",
    "    trace = go.Bar(\n",
    "    x = x,\n",
    "    y = y,\n",
    "    marker = dict(color = y, colorscale = c_scale))\n",
    "    layout = go.Layout(hovermode= 'closest', title = title, yaxis = dict(title = yaxis))\n",
    "    fig = go.Figure(data = [trace], layout = layout)\n",
    "    return iplot(fig)\n",
    "\n",
    "'''Function to plot scatter plot'''\n",
    "def scatter_plot(x, y, title, xaxis, yaxis, size, c_scale):\n",
    "    trace = go.Scatter(\n",
    "    x = x,\n",
    "    y = y,\n",
    "    mode = 'markers',\n",
    "    marker = dict(color = y, size = size, showscale = True, colorscale = c_scale))\n",
    "    layout = go.Layout(hovermode= 'closest', title = title, xaxis = dict(title = xaxis), yaxis = dict(title = yaxis))\n",
    "    fig = go.Figure(data = [trace], layout = layout)\n",
    "    return iplot(fig)    \n",
    "    \n",
    "'''Function to plot histogram'''\n",
    "def plot_histogram(x, title, yaxis, color):\n",
    "    trace = go.Histogram(x = x,\n",
    "                        marker = dict(color = color))\n",
    "    layout = go.Layout(hovermode= 'closest', title = title, yaxis = dict(title = yaxis))\n",
    "    fig = go.Figure(data = [trace], layout = layout)\n",
    "    return iplot(fig)"
   ]
  },
  {
   "cell_type": "code",
   "execution_count": 368,
   "metadata": {},
   "outputs": [],
   "source": [
    "#plot_histogram(num_df[['Variable_4']],'title','y' ,'aliceblue')"
   ]
  },
  {
   "cell_type": "code",
   "execution_count": 369,
   "metadata": {},
   "outputs": [
    {
     "data": {
      "application/vnd.plotly.v1+json": {
       "config": {
        "linkText": "Export to plot.ly",
        "plotlyServerURL": "https://plot.ly",
        "showLink": false
       },
       "data": [
        {
         "marker": {
          "color": [
           0.6115525309626072,
           0.6112748382569279,
           0.6059182453909923,
           0.5916933692243933,
           0.5833053866063432,
           0.5808998215334846,
           0.5681380887947433,
           0.5674882246546774,
           0.523816773999647,
           0.4641731678485111,
           0.023286937073192782
          ],
          "colorscale": [
           [
            0,
            "rgb(0,0,255)"
           ],
           [
            1,
            "rgb(255,0,0)"
           ]
          ]
         },
         "type": "bar",
         "x": [
          "Variable_5",
          "Variable_8",
          "Variable_9",
          "Variable_6",
          "Variable_3",
          "Variable_10",
          "Variable_2",
          "Variable_7",
          "Variable_4",
          "Variable_1",
          "y"
         ],
         "y": [
          0.6115525309626072,
          0.6112748382569279,
          0.6059182453909923,
          0.5916933692243933,
          0.5833053866063432,
          0.5808998215334846,
          0.5681380887947433,
          0.5674882246546774,
          0.523816773999647,
          0.4641731678485111,
          0.023286937073192782
         ]
        }
       ],
       "layout": {
        "hovermode": "closest",
        "template": {
         "data": {
          "bar": [
           {
            "error_x": {
             "color": "#2a3f5f"
            },
            "error_y": {
             "color": "#2a3f5f"
            },
            "marker": {
             "line": {
              "color": "#E5ECF6",
              "width": 0.5
             }
            },
            "type": "bar"
           }
          ],
          "barpolar": [
           {
            "marker": {
             "line": {
              "color": "#E5ECF6",
              "width": 0.5
             }
            },
            "type": "barpolar"
           }
          ],
          "carpet": [
           {
            "aaxis": {
             "endlinecolor": "#2a3f5f",
             "gridcolor": "white",
             "linecolor": "white",
             "minorgridcolor": "white",
             "startlinecolor": "#2a3f5f"
            },
            "baxis": {
             "endlinecolor": "#2a3f5f",
             "gridcolor": "white",
             "linecolor": "white",
             "minorgridcolor": "white",
             "startlinecolor": "#2a3f5f"
            },
            "type": "carpet"
           }
          ],
          "choropleth": [
           {
            "colorbar": {
             "outlinewidth": 0,
             "ticks": ""
            },
            "type": "choropleth"
           }
          ],
          "contour": [
           {
            "colorbar": {
             "outlinewidth": 0,
             "ticks": ""
            },
            "colorscale": [
             [
              0,
              "#0d0887"
             ],
             [
              0.1111111111111111,
              "#46039f"
             ],
             [
              0.2222222222222222,
              "#7201a8"
             ],
             [
              0.3333333333333333,
              "#9c179e"
             ],
             [
              0.4444444444444444,
              "#bd3786"
             ],
             [
              0.5555555555555556,
              "#d8576b"
             ],
             [
              0.6666666666666666,
              "#ed7953"
             ],
             [
              0.7777777777777778,
              "#fb9f3a"
             ],
             [
              0.8888888888888888,
              "#fdca26"
             ],
             [
              1,
              "#f0f921"
             ]
            ],
            "type": "contour"
           }
          ],
          "contourcarpet": [
           {
            "colorbar": {
             "outlinewidth": 0,
             "ticks": ""
            },
            "type": "contourcarpet"
           }
          ],
          "heatmap": [
           {
            "colorbar": {
             "outlinewidth": 0,
             "ticks": ""
            },
            "colorscale": [
             [
              0,
              "#0d0887"
             ],
             [
              0.1111111111111111,
              "#46039f"
             ],
             [
              0.2222222222222222,
              "#7201a8"
             ],
             [
              0.3333333333333333,
              "#9c179e"
             ],
             [
              0.4444444444444444,
              "#bd3786"
             ],
             [
              0.5555555555555556,
              "#d8576b"
             ],
             [
              0.6666666666666666,
              "#ed7953"
             ],
             [
              0.7777777777777778,
              "#fb9f3a"
             ],
             [
              0.8888888888888888,
              "#fdca26"
             ],
             [
              1,
              "#f0f921"
             ]
            ],
            "type": "heatmap"
           }
          ],
          "heatmapgl": [
           {
            "colorbar": {
             "outlinewidth": 0,
             "ticks": ""
            },
            "colorscale": [
             [
              0,
              "#0d0887"
             ],
             [
              0.1111111111111111,
              "#46039f"
             ],
             [
              0.2222222222222222,
              "#7201a8"
             ],
             [
              0.3333333333333333,
              "#9c179e"
             ],
             [
              0.4444444444444444,
              "#bd3786"
             ],
             [
              0.5555555555555556,
              "#d8576b"
             ],
             [
              0.6666666666666666,
              "#ed7953"
             ],
             [
              0.7777777777777778,
              "#fb9f3a"
             ],
             [
              0.8888888888888888,
              "#fdca26"
             ],
             [
              1,
              "#f0f921"
             ]
            ],
            "type": "heatmapgl"
           }
          ],
          "histogram": [
           {
            "marker": {
             "colorbar": {
              "outlinewidth": 0,
              "ticks": ""
             }
            },
            "type": "histogram"
           }
          ],
          "histogram2d": [
           {
            "colorbar": {
             "outlinewidth": 0,
             "ticks": ""
            },
            "colorscale": [
             [
              0,
              "#0d0887"
             ],
             [
              0.1111111111111111,
              "#46039f"
             ],
             [
              0.2222222222222222,
              "#7201a8"
             ],
             [
              0.3333333333333333,
              "#9c179e"
             ],
             [
              0.4444444444444444,
              "#bd3786"
             ],
             [
              0.5555555555555556,
              "#d8576b"
             ],
             [
              0.6666666666666666,
              "#ed7953"
             ],
             [
              0.7777777777777778,
              "#fb9f3a"
             ],
             [
              0.8888888888888888,
              "#fdca26"
             ],
             [
              1,
              "#f0f921"
             ]
            ],
            "type": "histogram2d"
           }
          ],
          "histogram2dcontour": [
           {
            "colorbar": {
             "outlinewidth": 0,
             "ticks": ""
            },
            "colorscale": [
             [
              0,
              "#0d0887"
             ],
             [
              0.1111111111111111,
              "#46039f"
             ],
             [
              0.2222222222222222,
              "#7201a8"
             ],
             [
              0.3333333333333333,
              "#9c179e"
             ],
             [
              0.4444444444444444,
              "#bd3786"
             ],
             [
              0.5555555555555556,
              "#d8576b"
             ],
             [
              0.6666666666666666,
              "#ed7953"
             ],
             [
              0.7777777777777778,
              "#fb9f3a"
             ],
             [
              0.8888888888888888,
              "#fdca26"
             ],
             [
              1,
              "#f0f921"
             ]
            ],
            "type": "histogram2dcontour"
           }
          ],
          "mesh3d": [
           {
            "colorbar": {
             "outlinewidth": 0,
             "ticks": ""
            },
            "type": "mesh3d"
           }
          ],
          "parcoords": [
           {
            "line": {
             "colorbar": {
              "outlinewidth": 0,
              "ticks": ""
             }
            },
            "type": "parcoords"
           }
          ],
          "scatter": [
           {
            "marker": {
             "colorbar": {
              "outlinewidth": 0,
              "ticks": ""
             }
            },
            "type": "scatter"
           }
          ],
          "scatter3d": [
           {
            "line": {
             "colorbar": {
              "outlinewidth": 0,
              "ticks": ""
             }
            },
            "marker": {
             "colorbar": {
              "outlinewidth": 0,
              "ticks": ""
             }
            },
            "type": "scatter3d"
           }
          ],
          "scattercarpet": [
           {
            "marker": {
             "colorbar": {
              "outlinewidth": 0,
              "ticks": ""
             }
            },
            "type": "scattercarpet"
           }
          ],
          "scattergeo": [
           {
            "marker": {
             "colorbar": {
              "outlinewidth": 0,
              "ticks": ""
             }
            },
            "type": "scattergeo"
           }
          ],
          "scattergl": [
           {
            "marker": {
             "colorbar": {
              "outlinewidth": 0,
              "ticks": ""
             }
            },
            "type": "scattergl"
           }
          ],
          "scattermapbox": [
           {
            "marker": {
             "colorbar": {
              "outlinewidth": 0,
              "ticks": ""
             }
            },
            "type": "scattermapbox"
           }
          ],
          "scatterpolar": [
           {
            "marker": {
             "colorbar": {
              "outlinewidth": 0,
              "ticks": ""
             }
            },
            "type": "scatterpolar"
           }
          ],
          "scatterpolargl": [
           {
            "marker": {
             "colorbar": {
              "outlinewidth": 0,
              "ticks": ""
             }
            },
            "type": "scatterpolargl"
           }
          ],
          "scatterternary": [
           {
            "marker": {
             "colorbar": {
              "outlinewidth": 0,
              "ticks": ""
             }
            },
            "type": "scatterternary"
           }
          ],
          "surface": [
           {
            "colorbar": {
             "outlinewidth": 0,
             "ticks": ""
            },
            "colorscale": [
             [
              0,
              "#0d0887"
             ],
             [
              0.1111111111111111,
              "#46039f"
             ],
             [
              0.2222222222222222,
              "#7201a8"
             ],
             [
              0.3333333333333333,
              "#9c179e"
             ],
             [
              0.4444444444444444,
              "#bd3786"
             ],
             [
              0.5555555555555556,
              "#d8576b"
             ],
             [
              0.6666666666666666,
              "#ed7953"
             ],
             [
              0.7777777777777778,
              "#fb9f3a"
             ],
             [
              0.8888888888888888,
              "#fdca26"
             ],
             [
              1,
              "#f0f921"
             ]
            ],
            "type": "surface"
           }
          ],
          "table": [
           {
            "cells": {
             "fill": {
              "color": "#EBF0F8"
             },
             "line": {
              "color": "white"
             }
            },
            "header": {
             "fill": {
              "color": "#C8D4E3"
             },
             "line": {
              "color": "white"
             }
            },
            "type": "table"
           }
          ]
         },
         "layout": {
          "annotationdefaults": {
           "arrowcolor": "#2a3f5f",
           "arrowhead": 0,
           "arrowwidth": 1
          },
          "colorscale": {
           "diverging": [
            [
             0,
             "#8e0152"
            ],
            [
             0.1,
             "#c51b7d"
            ],
            [
             0.2,
             "#de77ae"
            ],
            [
             0.3,
             "#f1b6da"
            ],
            [
             0.4,
             "#fde0ef"
            ],
            [
             0.5,
             "#f7f7f7"
            ],
            [
             0.6,
             "#e6f5d0"
            ],
            [
             0.7,
             "#b8e186"
            ],
            [
             0.8,
             "#7fbc41"
            ],
            [
             0.9,
             "#4d9221"
            ],
            [
             1,
             "#276419"
            ]
           ],
           "sequential": [
            [
             0,
             "#0d0887"
            ],
            [
             0.1111111111111111,
             "#46039f"
            ],
            [
             0.2222222222222222,
             "#7201a8"
            ],
            [
             0.3333333333333333,
             "#9c179e"
            ],
            [
             0.4444444444444444,
             "#bd3786"
            ],
            [
             0.5555555555555556,
             "#d8576b"
            ],
            [
             0.6666666666666666,
             "#ed7953"
            ],
            [
             0.7777777777777778,
             "#fb9f3a"
            ],
            [
             0.8888888888888888,
             "#fdca26"
            ],
            [
             1,
             "#f0f921"
            ]
           ],
           "sequentialminus": [
            [
             0,
             "#0d0887"
            ],
            [
             0.1111111111111111,
             "#46039f"
            ],
            [
             0.2222222222222222,
             "#7201a8"
            ],
            [
             0.3333333333333333,
             "#9c179e"
            ],
            [
             0.4444444444444444,
             "#bd3786"
            ],
            [
             0.5555555555555556,
             "#d8576b"
            ],
            [
             0.6666666666666666,
             "#ed7953"
            ],
            [
             0.7777777777777778,
             "#fb9f3a"
            ],
            [
             0.8888888888888888,
             "#fdca26"
            ],
            [
             1,
             "#f0f921"
            ]
           ]
          },
          "colorway": [
           "#636efa",
           "#EF553B",
           "#00cc96",
           "#ab63fa",
           "#FFA15A",
           "#19d3f3",
           "#FF6692",
           "#B6E880",
           "#FF97FF",
           "#FECB52"
          ],
          "font": {
           "color": "#2a3f5f"
          },
          "geo": {
           "bgcolor": "white",
           "lakecolor": "white",
           "landcolor": "#E5ECF6",
           "showlakes": true,
           "showland": true,
           "subunitcolor": "white"
          },
          "hoverlabel": {
           "align": "left"
          },
          "hovermode": "closest",
          "mapbox": {
           "style": "light"
          },
          "paper_bgcolor": "white",
          "plot_bgcolor": "#E5ECF6",
          "polar": {
           "angularaxis": {
            "gridcolor": "white",
            "linecolor": "white",
            "ticks": ""
           },
           "bgcolor": "#E5ECF6",
           "radialaxis": {
            "gridcolor": "white",
            "linecolor": "white",
            "ticks": ""
           }
          },
          "scene": {
           "xaxis": {
            "backgroundcolor": "#E5ECF6",
            "gridcolor": "white",
            "gridwidth": 2,
            "linecolor": "white",
            "showbackground": true,
            "ticks": "",
            "zerolinecolor": "white"
           },
           "yaxis": {
            "backgroundcolor": "#E5ECF6",
            "gridcolor": "white",
            "gridwidth": 2,
            "linecolor": "white",
            "showbackground": true,
            "ticks": "",
            "zerolinecolor": "white"
           },
           "zaxis": {
            "backgroundcolor": "#E5ECF6",
            "gridcolor": "white",
            "gridwidth": 2,
            "linecolor": "white",
            "showbackground": true,
            "ticks": "",
            "zerolinecolor": "white"
           }
          },
          "shapedefaults": {
           "line": {
            "color": "#2a3f5f"
           }
          },
          "ternary": {
           "aaxis": {
            "gridcolor": "white",
            "linecolor": "white",
            "ticks": ""
           },
           "baxis": {
            "gridcolor": "white",
            "linecolor": "white",
            "ticks": ""
           },
           "bgcolor": "#E5ECF6",
           "caxis": {
            "gridcolor": "white",
            "linecolor": "white",
            "ticks": ""
           }
          },
          "title": {
           "x": 0.05
          },
          "xaxis": {
           "automargin": true,
           "gridcolor": "white",
           "linecolor": "white",
           "ticks": "",
           "zerolinecolor": "white",
           "zerolinewidth": 2
          },
          "yaxis": {
           "automargin": true,
           "gridcolor": "white",
           "linecolor": "white",
           "ticks": "",
           "zerolinecolor": "white",
           "zerolinewidth": 2
          }
         }
        },
        "title": {
         "text": "Skewness in Explanetory Variables"
        },
        "yaxis": {
         "title": {
          "text": "Skewness"
         }
        }
       }
      },
      "text/html": [
       "<div>\n",
       "        \n",
       "        \n",
       "            <div id=\"646da819-2e89-472f-86a6-79200e1f350a\" class=\"plotly-graph-div\" style=\"height:525px; width:100%;\"></div>\n",
       "            <script type=\"text/javascript\">\n",
       "                require([\"plotly\"], function(Plotly) {\n",
       "                    window.PLOTLYENV=window.PLOTLYENV || {};\n",
       "                    \n",
       "                if (document.getElementById(\"646da819-2e89-472f-86a6-79200e1f350a\")) {\n",
       "                    Plotly.newPlot(\n",
       "                        '646da819-2e89-472f-86a6-79200e1f350a',\n",
       "                        [{\"marker\": {\"color\": [0.6115525309626072, 0.6112748382569279, 0.6059182453909923, 0.5916933692243933, 0.5833053866063432, 0.5808998215334846, 0.5681380887947433, 0.5674882246546774, 0.523816773999647, 0.4641731678485111, 0.023286937073192782], \"colorscale\": [[0.0, \"rgb(0,0,255)\"], [1.0, \"rgb(255,0,0)\"]]}, \"type\": \"bar\", \"x\": [\"Variable_5\", \"Variable_8\", \"Variable_9\", \"Variable_6\", \"Variable_3\", \"Variable_10\", \"Variable_2\", \"Variable_7\", \"Variable_4\", \"Variable_1\", \"y\"], \"y\": [0.6115525309626072, 0.6112748382569279, 0.6059182453909923, 0.5916933692243933, 0.5833053866063432, 0.5808998215334846, 0.5681380887947433, 0.5674882246546774, 0.523816773999647, 0.4641731678485111, 0.023286937073192782]}],\n",
       "                        {\"hovermode\": \"closest\", \"template\": {\"data\": {\"bar\": [{\"error_x\": {\"color\": \"#2a3f5f\"}, \"error_y\": {\"color\": \"#2a3f5f\"}, \"marker\": {\"line\": {\"color\": \"#E5ECF6\", \"width\": 0.5}}, \"type\": \"bar\"}], \"barpolar\": [{\"marker\": {\"line\": {\"color\": \"#E5ECF6\", \"width\": 0.5}}, \"type\": \"barpolar\"}], \"carpet\": [{\"aaxis\": {\"endlinecolor\": \"#2a3f5f\", \"gridcolor\": \"white\", \"linecolor\": \"white\", \"minorgridcolor\": \"white\", \"startlinecolor\": \"#2a3f5f\"}, \"baxis\": {\"endlinecolor\": \"#2a3f5f\", \"gridcolor\": \"white\", \"linecolor\": \"white\", \"minorgridcolor\": \"white\", \"startlinecolor\": \"#2a3f5f\"}, \"type\": \"carpet\"}], \"choropleth\": [{\"colorbar\": {\"outlinewidth\": 0, \"ticks\": \"\"}, \"type\": \"choropleth\"}], \"contour\": [{\"colorbar\": {\"outlinewidth\": 0, \"ticks\": \"\"}, \"colorscale\": [[0.0, \"#0d0887\"], [0.1111111111111111, \"#46039f\"], [0.2222222222222222, \"#7201a8\"], [0.3333333333333333, \"#9c179e\"], [0.4444444444444444, \"#bd3786\"], [0.5555555555555556, \"#d8576b\"], [0.6666666666666666, \"#ed7953\"], [0.7777777777777778, \"#fb9f3a\"], [0.8888888888888888, \"#fdca26\"], [1.0, \"#f0f921\"]], \"type\": \"contour\"}], \"contourcarpet\": [{\"colorbar\": {\"outlinewidth\": 0, \"ticks\": \"\"}, \"type\": \"contourcarpet\"}], \"heatmap\": [{\"colorbar\": {\"outlinewidth\": 0, \"ticks\": \"\"}, \"colorscale\": [[0.0, \"#0d0887\"], [0.1111111111111111, \"#46039f\"], [0.2222222222222222, \"#7201a8\"], [0.3333333333333333, \"#9c179e\"], [0.4444444444444444, \"#bd3786\"], [0.5555555555555556, \"#d8576b\"], [0.6666666666666666, \"#ed7953\"], [0.7777777777777778, \"#fb9f3a\"], [0.8888888888888888, \"#fdca26\"], [1.0, \"#f0f921\"]], \"type\": \"heatmap\"}], \"heatmapgl\": [{\"colorbar\": {\"outlinewidth\": 0, \"ticks\": \"\"}, \"colorscale\": [[0.0, \"#0d0887\"], [0.1111111111111111, \"#46039f\"], [0.2222222222222222, \"#7201a8\"], [0.3333333333333333, \"#9c179e\"], [0.4444444444444444, \"#bd3786\"], [0.5555555555555556, \"#d8576b\"], [0.6666666666666666, \"#ed7953\"], [0.7777777777777778, \"#fb9f3a\"], [0.8888888888888888, \"#fdca26\"], [1.0, \"#f0f921\"]], \"type\": \"heatmapgl\"}], \"histogram\": [{\"marker\": {\"colorbar\": {\"outlinewidth\": 0, \"ticks\": \"\"}}, \"type\": \"histogram\"}], \"histogram2d\": [{\"colorbar\": {\"outlinewidth\": 0, \"ticks\": \"\"}, \"colorscale\": [[0.0, \"#0d0887\"], [0.1111111111111111, \"#46039f\"], [0.2222222222222222, \"#7201a8\"], [0.3333333333333333, \"#9c179e\"], [0.4444444444444444, \"#bd3786\"], [0.5555555555555556, \"#d8576b\"], [0.6666666666666666, \"#ed7953\"], [0.7777777777777778, \"#fb9f3a\"], [0.8888888888888888, \"#fdca26\"], [1.0, \"#f0f921\"]], \"type\": \"histogram2d\"}], \"histogram2dcontour\": [{\"colorbar\": {\"outlinewidth\": 0, \"ticks\": \"\"}, \"colorscale\": [[0.0, \"#0d0887\"], [0.1111111111111111, \"#46039f\"], [0.2222222222222222, \"#7201a8\"], [0.3333333333333333, \"#9c179e\"], [0.4444444444444444, \"#bd3786\"], [0.5555555555555556, \"#d8576b\"], [0.6666666666666666, \"#ed7953\"], [0.7777777777777778, \"#fb9f3a\"], [0.8888888888888888, \"#fdca26\"], [1.0, \"#f0f921\"]], \"type\": \"histogram2dcontour\"}], \"mesh3d\": [{\"colorbar\": {\"outlinewidth\": 0, \"ticks\": \"\"}, \"type\": \"mesh3d\"}], \"parcoords\": [{\"line\": {\"colorbar\": {\"outlinewidth\": 0, \"ticks\": \"\"}}, \"type\": \"parcoords\"}], \"scatter\": [{\"marker\": {\"colorbar\": {\"outlinewidth\": 0, \"ticks\": \"\"}}, \"type\": \"scatter\"}], \"scatter3d\": [{\"line\": {\"colorbar\": {\"outlinewidth\": 0, \"ticks\": \"\"}}, \"marker\": {\"colorbar\": {\"outlinewidth\": 0, \"ticks\": \"\"}}, \"type\": \"scatter3d\"}], \"scattercarpet\": [{\"marker\": {\"colorbar\": {\"outlinewidth\": 0, \"ticks\": \"\"}}, \"type\": \"scattercarpet\"}], \"scattergeo\": [{\"marker\": {\"colorbar\": {\"outlinewidth\": 0, \"ticks\": \"\"}}, \"type\": \"scattergeo\"}], \"scattergl\": [{\"marker\": {\"colorbar\": {\"outlinewidth\": 0, \"ticks\": \"\"}}, \"type\": \"scattergl\"}], \"scattermapbox\": [{\"marker\": {\"colorbar\": {\"outlinewidth\": 0, \"ticks\": \"\"}}, \"type\": \"scattermapbox\"}], \"scatterpolar\": [{\"marker\": {\"colorbar\": {\"outlinewidth\": 0, \"ticks\": \"\"}}, \"type\": \"scatterpolar\"}], \"scatterpolargl\": [{\"marker\": {\"colorbar\": {\"outlinewidth\": 0, \"ticks\": \"\"}}, \"type\": \"scatterpolargl\"}], \"scatterternary\": [{\"marker\": {\"colorbar\": {\"outlinewidth\": 0, \"ticks\": \"\"}}, \"type\": \"scatterternary\"}], \"surface\": [{\"colorbar\": {\"outlinewidth\": 0, \"ticks\": \"\"}, \"colorscale\": [[0.0, \"#0d0887\"], [0.1111111111111111, \"#46039f\"], [0.2222222222222222, \"#7201a8\"], [0.3333333333333333, \"#9c179e\"], [0.4444444444444444, \"#bd3786\"], [0.5555555555555556, \"#d8576b\"], [0.6666666666666666, \"#ed7953\"], [0.7777777777777778, \"#fb9f3a\"], [0.8888888888888888, \"#fdca26\"], [1.0, \"#f0f921\"]], \"type\": \"surface\"}], \"table\": [{\"cells\": {\"fill\": {\"color\": \"#EBF0F8\"}, \"line\": {\"color\": \"white\"}}, \"header\": {\"fill\": {\"color\": \"#C8D4E3\"}, \"line\": {\"color\": \"white\"}}, \"type\": \"table\"}]}, \"layout\": {\"annotationdefaults\": {\"arrowcolor\": \"#2a3f5f\", \"arrowhead\": 0, \"arrowwidth\": 1}, \"colorscale\": {\"diverging\": [[0, \"#8e0152\"], [0.1, \"#c51b7d\"], [0.2, \"#de77ae\"], [0.3, \"#f1b6da\"], [0.4, \"#fde0ef\"], [0.5, \"#f7f7f7\"], [0.6, \"#e6f5d0\"], [0.7, \"#b8e186\"], [0.8, \"#7fbc41\"], [0.9, \"#4d9221\"], [1, \"#276419\"]], \"sequential\": [[0.0, \"#0d0887\"], [0.1111111111111111, \"#46039f\"], [0.2222222222222222, \"#7201a8\"], [0.3333333333333333, \"#9c179e\"], [0.4444444444444444, \"#bd3786\"], [0.5555555555555556, \"#d8576b\"], [0.6666666666666666, \"#ed7953\"], [0.7777777777777778, \"#fb9f3a\"], [0.8888888888888888, \"#fdca26\"], [1.0, \"#f0f921\"]], \"sequentialminus\": [[0.0, \"#0d0887\"], [0.1111111111111111, \"#46039f\"], [0.2222222222222222, \"#7201a8\"], [0.3333333333333333, \"#9c179e\"], [0.4444444444444444, \"#bd3786\"], [0.5555555555555556, \"#d8576b\"], [0.6666666666666666, \"#ed7953\"], [0.7777777777777778, \"#fb9f3a\"], [0.8888888888888888, \"#fdca26\"], [1.0, \"#f0f921\"]]}, \"colorway\": [\"#636efa\", \"#EF553B\", \"#00cc96\", \"#ab63fa\", \"#FFA15A\", \"#19d3f3\", \"#FF6692\", \"#B6E880\", \"#FF97FF\", \"#FECB52\"], \"font\": {\"color\": \"#2a3f5f\"}, \"geo\": {\"bgcolor\": \"white\", \"lakecolor\": \"white\", \"landcolor\": \"#E5ECF6\", \"showlakes\": true, \"showland\": true, \"subunitcolor\": \"white\"}, \"hoverlabel\": {\"align\": \"left\"}, \"hovermode\": \"closest\", \"mapbox\": {\"style\": \"light\"}, \"paper_bgcolor\": \"white\", \"plot_bgcolor\": \"#E5ECF6\", \"polar\": {\"angularaxis\": {\"gridcolor\": \"white\", \"linecolor\": \"white\", \"ticks\": \"\"}, \"bgcolor\": \"#E5ECF6\", \"radialaxis\": {\"gridcolor\": \"white\", \"linecolor\": \"white\", \"ticks\": \"\"}}, \"scene\": {\"xaxis\": {\"backgroundcolor\": \"#E5ECF6\", \"gridcolor\": \"white\", \"gridwidth\": 2, \"linecolor\": \"white\", \"showbackground\": true, \"ticks\": \"\", \"zerolinecolor\": \"white\"}, \"yaxis\": {\"backgroundcolor\": \"#E5ECF6\", \"gridcolor\": \"white\", \"gridwidth\": 2, \"linecolor\": \"white\", \"showbackground\": true, \"ticks\": \"\", \"zerolinecolor\": \"white\"}, \"zaxis\": {\"backgroundcolor\": \"#E5ECF6\", \"gridcolor\": \"white\", \"gridwidth\": 2, \"linecolor\": \"white\", \"showbackground\": true, \"ticks\": \"\", \"zerolinecolor\": \"white\"}}, \"shapedefaults\": {\"line\": {\"color\": \"#2a3f5f\"}}, \"ternary\": {\"aaxis\": {\"gridcolor\": \"white\", \"linecolor\": \"white\", \"ticks\": \"\"}, \"baxis\": {\"gridcolor\": \"white\", \"linecolor\": \"white\", \"ticks\": \"\"}, \"bgcolor\": \"#E5ECF6\", \"caxis\": {\"gridcolor\": \"white\", \"linecolor\": \"white\", \"ticks\": \"\"}}, \"title\": {\"x\": 0.05}, \"xaxis\": {\"automargin\": true, \"gridcolor\": \"white\", \"linecolor\": \"white\", \"ticks\": \"\", \"zerolinecolor\": \"white\", \"zerolinewidth\": 2}, \"yaxis\": {\"automargin\": true, \"gridcolor\": \"white\", \"linecolor\": \"white\", \"ticks\": \"\", \"zerolinecolor\": \"white\", \"zerolinewidth\": 2}}}, \"title\": {\"text\": \"Skewness in Explanetory Variables\"}, \"yaxis\": {\"title\": {\"text\": \"Skewness\"}}},\n",
       "                        {\"responsive\": true}\n",
       "                    ).then(function(){\n",
       "                            \n",
       "var gd = document.getElementById('646da819-2e89-472f-86a6-79200e1f350a');\n",
       "var x = new MutationObserver(function (mutations, observer) {{\n",
       "        var display = window.getComputedStyle(gd).display;\n",
       "        if (!display || display === 'none') {{\n",
       "            console.log([gd, 'removed!']);\n",
       "            Plotly.purge(gd);\n",
       "            observer.disconnect();\n",
       "        }}\n",
       "}});\n",
       "\n",
       "// Listen for the removal of the full notebook cells\n",
       "var notebookContainer = gd.closest('#notebook-container');\n",
       "if (notebookContainer) {{\n",
       "    x.observe(notebookContainer, {childList: true});\n",
       "}}\n",
       "\n",
       "// Listen for the clearing of the current output cell\n",
       "var outputEl = gd.closest('.output');\n",
       "if (outputEl) {{\n",
       "    x.observe(outputEl, {childList: true});\n",
       "}}\n",
       "\n",
       "                        })\n",
       "                };\n",
       "                });\n",
       "            </script>\n",
       "        </div>"
      ]
     },
     "metadata": {},
     "output_type": "display_data"
    }
   ],
   "source": [
    "'''Now calculate and plot the skewness for rest of the explanetory variables.'''\n",
    "skew_merged = pd.DataFrame(data = num_df.select_dtypes(include = ['int64', 'float64']).skew(), columns = ['Skewness'])\n",
    "skew_merged_sorted = skew_merged.sort_values(ascending = False, by = 'Skewness')\n",
    "bar_plot(skew_merged_sorted.index, skew_merged_sorted.Skewness, 'Skewness in Explanetory Variables', 'Skewness', 'Bluered')"
   ]
  },
  {
   "cell_type": "markdown",
   "metadata": {},
   "source": [
    "### check the distribution of our Y variable"
   ]
  },
  {
   "cell_type": "code",
   "execution_count": 370,
   "metadata": {},
   "outputs": [],
   "source": [
    "%matplotlib inline\n",
    "\n",
    "plt.rcParams['figure.figsize'] = (16.0, 12.0)\n",
    "plt.style.use('ggplot')\n",
    "\n",
    "# Create models from data\n",
    "def best_fit_distribution(data, bins=200, ax=None):\n",
    "    \"\"\"Model data by finding best fit distribution to data\"\"\"\n",
    "    # Get histogram of original data\n",
    "    y, x = np.histogram(data, bins=bins, density=True)\n",
    "    x = (x + np.roll(x, -1))[:-1] / 2.0\n",
    "\n",
    "    # Distributions to check\n",
    "    DISTRIBUTIONS = [        \n",
    "        #st.alpha,st.anglit,st.arcsine,st.beta,st.betaprime,st.bradford,st.burr,st.cauchy,st.chi,st.chi2,st.cosine,\n",
    "        #st.dgamma,st.dweibull,st.erlang,st.expon,st.exponnorm,st.exponweib,st.exponpow,st.f,st.fatiguelife,st.fisk,\n",
    "        #st.foldcauchy,st.foldnorm,st.frechet_r,st.frechet_l,st.genlogistic,st.genpareto,st.gennorm,st.genexpon,\n",
    "        #st.genextreme,st.gausshyper,st.gamma,st.gengamma,st.genhalflogistic,st.gilbrat,st.gompertz,st.gumbel_r,\n",
    "        #st.gumbel_l,st.halfcauchy,st.halflogistic,st.halfnorm,st.halfgennorm,st.hypsecant,st.invgamma,st.invgauss,\n",
    "        #st.invweibull,st.johnsonsb,st.johnsonsu,st.ksone,st.kstwobign,st.laplace,st.levy,st.levy_l,st.levy_stable,\n",
    "        #st.logistic,st.loggamma,st.loglaplace,st.lognorm,st.lomax,st.maxwell,st.mielke,st.nakagami,st.ncx2,st.ncf,\n",
    "        st.nct,st.norm,st.pareto,st.pearson3,st.powerlaw,st.powerlognorm,st.powernorm,st.rdist,st.reciprocal,\n",
    "        #st.rayleigh,st.rice,st.recipinvgauss,st.semicircular,st.t,st.triang,st.truncexpon,st.truncnorm,st.tukeylambda,\n",
    "        st.uniform,st.vonmises,st.vonmises_line,st.wald,st.weibull_min,st.weibull_max,st.wrapcauchy\n",
    "    ]\n",
    "\n",
    "    # Best holders\n",
    "    best_distribution = st.norm\n",
    "    best_params = (0.0, 1.0)\n",
    "    best_sse = np.inf\n",
    "\n",
    "    # Estimate distribution parameters from data\n",
    "    for distribution in DISTRIBUTIONS:\n",
    "\n",
    "        # Try to fit the distribution\n",
    "        try:\n",
    "            # Ignore warnings from data that can't be fit\n",
    "            with warnings.catch_warnings():\n",
    "                warnings.filterwarnings('ignore')\n",
    "\n",
    "                # fit dist to data\n",
    "                params = distribution.fit(data)\n",
    "\n",
    "                # Separate parts of parameters\n",
    "                arg = params[:-2]\n",
    "                loc = params[-2]\n",
    "                scale = params[-1]\n",
    "\n",
    "                # Calculate fitted PDF and error with fit in distribution\n",
    "                pdf = distribution.pdf(x, loc=loc, scale=scale, *arg)\n",
    "                sse = np.sum(np.power(y - pdf, 2.0))\n",
    "\n",
    "                # if axis pass in add to plot\n",
    "                try:\n",
    "                    if ax:\n",
    "                        pd.Series(pdf, x).plot(ax=ax)\n",
    "                    end\n",
    "                except Exception:\n",
    "                    pass\n",
    "\n",
    "                # identify if this distribution is better\n",
    "                if best_sse > sse > 0:\n",
    "                    best_distribution = distribution\n",
    "                    best_params = params\n",
    "                    best_sse = sse\n",
    "\n",
    "        except Exception:\n",
    "            pass\n",
    "\n",
    "    return (best_distribution.name, best_params)\n",
    "\n",
    "def make_pdf(dist, params, size=10000):\n",
    "    \"\"\"Generate distributions's Probability Distribution Function \"\"\"\n",
    "\n",
    "    # Separate parts of parameters\n",
    "    arg = params[:-2]\n",
    "    loc = params[-2]\n",
    "    scale = params[-1]\n",
    "\n",
    "    # Get sane start and end points of distribution\n",
    "    start = dist.ppf(0.01, *arg, loc=loc, scale=scale) if arg else dist.ppf(0.01, loc=loc, scale=scale)\n",
    "    end = dist.ppf(0.99, *arg, loc=loc, scale=scale) if arg else dist.ppf(0.99, loc=loc, scale=scale)\n",
    "\n",
    "    # Build PDF and turn into pandas Series\n",
    "    x = np.linspace(start, end, size)\n",
    "    y = dist.pdf(x, loc=loc, scale=scale, *arg)\n",
    "    pdf = pd.Series(y, x)\n",
    "\n",
    "    return pdf"
   ]
  },
  {
   "cell_type": "code",
   "execution_count": 371,
   "metadata": {},
   "outputs": [
    {
     "data": {
      "text/plain": [
       "Text(0, 0.5, 'Frequency')"
      ]
     },
     "execution_count": 371,
     "metadata": {},
     "output_type": "execute_result"
    },
    {
     "data": {
      "image/png": "[encoded data removed]",
      "text/plain": [
       "<Figure size 864x576 with 1 Axes>"
      ]
     },
     "metadata": {},
     "output_type": "display_data"
    }
   ],
   "source": [
    "\n",
    "# Load data from statsmodels datasets\n",
    "data = y_df\n",
    "\n",
    "\n",
    "# Find best fit distribution\n",
    "best_fit_name, best_fit_params = best_fit_distribution(data, 200)\n",
    "best_dist = getattr(st, best_fit_name)\n",
    "\n",
    "\n",
    "# Make PDF with best params \n",
    "pdf = make_pdf(best_dist, best_fit_params)\n",
    "\n",
    "# Display\n",
    "plt.figure(figsize=(12,8))\n",
    "ax = pdf.plot(lw=2, label='PDF', legend=True)\n",
    "data.plot(kind='hist', bins=50, normed=True, alpha=0.5, label='Data', legend=True, ax=ax)\n",
    "\n",
    "param_names = (best_dist.shapes + ', loc, scale').split(', ') if best_dist.shapes else ['loc', 'scale']\n",
    "param_str = ', '.join(['{}={:0.2f}'.format(k,v) for k,v in zip(param_names, best_fit_params)])\n",
    "dist_str = '{}({})'.format(best_fit_name, param_str)\n",
    "\n",
    "ax.set_title(u' with best fit distribution \\n' + dist_str)\n",
    "ax.set_xlabel(u'The function provides the best fitting distribution to the data')\n",
    "ax.set_ylabel('Frequency')"
   ]
  },
  {
   "cell_type": "markdown",
   "metadata": {},
   "source": [
    "<a id='step6'></a>"
   ]
  },
  {
   "cell_type": "markdown",
   "metadata": {},
   "source": [
    "### Find and remove outliers\n",
    "\n",
    "There are a few methods for handling outliers, we will only work with one here, however, please research the following method to identify and resolve. \n",
    "\n",
    "- Box Plot (remove records that fall above/below the upper and lower whiskers)\n",
    "- Scatter Plot \n",
    "- Z scores\n",
    "- IQR\n",
    "- Windsorization \n",
    "\n",
    "Resource: https://towardsdatascience.com/ways-to-detect-and-remove-the-outliers-404d16608dba"
   ]
  },
  {
   "cell_type": "code",
   "execution_count": 380,
   "metadata": {},
   "outputs": [
    {
     "data": {
      "text/markdown": [
       "**Preview of Z Score Labeles:**"
      ],
      "text/plain": [
       "<IPython.core.display.Markdown object>"
      ]
     },
     "metadata": {},
     "output_type": "display_data"
    },
    {
     "data": {
      "text/plain": [
       "array([[2.68181759, 2.21697721, 2.3770724 , ..., 2.00130983, 2.17789502,\n",
       "        0.31668573],\n",
       "       [2.07409289, 2.61619047, 2.2968593 , ..., 2.15903859, 1.70763447,\n",
       "        0.1482976 ],\n",
       "       [1.06233675, 2.31296771, 2.33495715, ..., 2.6211808 , 2.57158162,\n",
       "        0.80620974],\n",
       "       ...,\n",
       "       [2.67389386, 3.22171826, 2.88597958, ..., 2.7648482 , 2.30216019,\n",
       "        3.19755573],\n",
       "       [3.99291779, 2.79055363, 2.63027806, ..., 2.48471578, 2.43921193,\n",
       "        3.39386617],\n",
       "       [2.97707122, 2.89487392, 3.27589577, ..., 3.21223374, 3.09798184,\n",
       "        3.75985877]])"
      ]
     },
     "metadata": {},
     "output_type": "display_data"
    }
   ],
   "source": [
    "''' We will use scipy stats and numpy'''\n",
    "\n",
    "z = np.abs(st.zscore(df))\n",
    "\n",
    "bold('**Preview of Z Score Labeles:**')\n",
    "display(z)"
   ]
  },
  {
   "cell_type": "code",
   "execution_count": 381,
   "metadata": {},
   "outputs": [
    {
     "data": {
      "text/markdown": [
       "**Let’s try and define a threshold to identify an outlier:**"
      ],
      "text/plain": [
       "<IPython.core.display.Markdown object>"
      ]
     },
     "metadata": {},
     "output_type": "display_data"
    }
   ],
   "source": [
    "bold('**Let’s try and define a threshold to identify an outlier:**')"
   ]
  },
  {
   "cell_type": "code",
   "execution_count": 383,
   "metadata": {},
   "outputs": [
    {
     "data": {
      "text/plain": [
       "(array([  49,   89,   94,  215,  285, 1000, 1000, 1000, 1000, 1000, 1001,\n",
       "        1001, 1001, 1002, 1002, 1002, 1002, 1002, 1002, 1003, 1003, 1003,\n",
       "        1003, 1003, 1003], dtype=int64),\n",
       " array([ 4,  8,  3, 10, 10,  0,  3,  4,  6, 10,  1,  6, 10,  0,  3,  5,  6,\n",
       "         7, 10,  2,  3,  4,  8,  9, 10], dtype=int64))"
      ]
     },
     "metadata": {},
     "output_type": "display_data"
    }
   ],
   "source": [
    "''' The first array contains the list of row numbers and second array respective column numbers'''\n",
    "threshold = 3\n",
    "display(np.where(z > 3))"
   ]
  },
  {
   "cell_type": "code",
   "execution_count": 406,
   "metadata": {},
   "outputs": [],
   "source": [
    "''' Define a new variable for outliers'''\n",
    "''' The new variable will be called outlier_thresholds'''\n",
    "\n",
    "outlier_threshold = np.where(z > 3)"
   ]
  },
  {
   "cell_type": "code",
   "execution_count": 415,
   "metadata": {},
   "outputs": [],
   "source": [
    "total_outliers = len(outlier_threshold[0]) *len(outlier_threshold[1])"
   ]
  },
  {
   "cell_type": "code",
   "execution_count": 407,
   "metadata": {},
   "outputs": [
    {
     "data": {
      "text/markdown": [
       "**Let’s interpret the output:**"
      ],
      "text/plain": [
       "<IPython.core.display.Markdown object>"
      ]
     },
     "metadata": {},
     "output_type": "display_data"
    },
    {
     "name": "stdout",
     "output_type": "stream",
     "text": [
      "So, the data point — 49th record on column 4 is an outlier of 3.056815146953268.\n"
     ]
    }
   ],
   "source": [
    "bold('**Let’s interpret the output:**')\n",
    "\n",
    "print('So, the data point — {}th record on column {} is an outlier of {}.'.format(outlier_threshold[0][0],outlier_threshold[1][0],z[49][4]))"
   ]
  },
  {
   "cell_type": "code",
   "execution_count": 420,
   "metadata": {},
   "outputs": [
    {
     "data": {
      "text/markdown": [
       "**How many outliers do we have?**"
      ],
      "text/plain": [
       "<IPython.core.display.Markdown object>"
      ]
     },
     "metadata": {},
     "output_type": "display_data"
    }
   ],
   "source": [
    "bold('**How many outliers do we have?**')\n",
    "\n",
    "#print('There are {} total outliers.'.format(total_outliers))"
   ]
  },
  {
   "cell_type": "code",
   "execution_count": 421,
   "metadata": {},
   "outputs": [
    {
     "data": {
      "text/markdown": [
       "**Now let\"s remove the outliers**"
      ],
      "text/plain": [
       "<IPython.core.display.Markdown object>"
      ]
     },
     "metadata": {},
     "output_type": "display_data"
    },
    {
     "data": {
      "text/plain": [
       "(995, 11)"
      ]
     },
     "metadata": {},
     "output_type": "display_data"
    },
    {
     "data": {
      "text/plain": [
       "(1004, 11)"
      ]
     },
     "metadata": {},
     "output_type": "display_data"
    }
   ],
   "source": [
    "bold('**Now let\"s remove the outliers**')\n",
    "\n",
    "\n",
    "''' This can be done with the below code'''\n",
    "\n",
    "new_df_o = df[(z < 3).all(axis=1)]\n",
    "\n",
    "display(new_df_o.shape)\n",
    "\n",
    "display(df.shape)"
   ]
  },
  {
   "cell_type": "markdown",
   "metadata": {},
   "source": [
    "### Feauture Scaling"
   ]
  },
  {
   "cell_type": "code",
   "execution_count": null,
   "metadata": {},
   "outputs": [],
   "source": []
  },
  {
   "cell_type": "markdown",
   "metadata": {},
   "source": [
    "# Step 6: Model Data"
   ]
  },
  {
   "cell_type": "markdown",
   "metadata": {},
   "source": [
    "Document Model Assumptions:\n",
    "    \n",
    "    \n",
    "    \n",
    "    \n",
    "    \n",
    "Resource: https://towardsdatascience.com/all-the-annoying-assumptions-31b55df246c3"
   ]
  },
  {
   "cell_type": "markdown",
   "metadata": {},
   "source": [
    "## split dataset into train and test data"
   ]
  },
  {
   "cell_type": "code",
   "execution_count": 319,
   "metadata": {},
   "outputs": [],
   "source": [
    "\n",
    "#split dataset into train and test data\n",
    "#train , test = train_test_split(df, test_size = 0.4)\n",
    "\n",
    "#x_train = train.drop('y')\n",
    "#y_train = train['y']\n",
    "\n",
    "#x_test = test.drop('y')\n",
    "#y_test = test['y']\n",
    "\n",
    "\n",
    "x_train, x_test, y_train, y_test = train_test_split(X, y, test_size = 0.2, random_state = 465)"
   ]
  },
  {
   "cell_type": "markdown",
   "metadata": {},
   "source": [
    "## Validate Model Assumptions"
   ]
  },
  {
   "cell_type": "markdown",
   "metadata": {},
   "source": [
    "We create a function to validate the below assumptions for OLS regression. \n",
    "\n",
    " - Assumption 1: Linear Relationship between the Target and the Features\n",
    " - Assumption 2: The error terms are normally distributed\n",
    " - Assumption 3: Little to no multicollinearity among predictors\n",
    " - Assumption 4: No Autocorrelation\n",
    " - Assumption 5: Homoscedasticity of Error Terms\n",
    " \n",
    "###  Be sure to read the comments in the function because they will explain each of the assumptions in detail. \n"
   ]
  },
  {
   "cell_type": "code",
   "execution_count": 320,
   "metadata": {},
   "outputs": [],
   "source": [
    "def linear_regression_assumptions(features, label, feature_names=None):\n",
    "    \"\"\"\n",
    "    Tests a linear regression on the model to see if assumptions are being met\n",
    "    \"\"\"\n",
    "    from sklearn.linear_model import LinearRegression\n",
    "    \n",
    "    # Setting feature names to x1, x2, x3, etc. if they are not defined\n",
    "    if feature_names is None:\n",
    "        feature_names = ['X'+str(feature+1) for feature in range(features.shape[1])]\n",
    "    \n",
    "    print('Fitting linear regression')\n",
    "    # Multi-threading if the dataset is a size where doing so is beneficial\n",
    "    if features.shape[0] < 100000:\n",
    "        model = LinearRegression(n_jobs=-1)\n",
    "    else:\n",
    "        model = LinearRegression()\n",
    "        \n",
    "    model.fit(features, label)\n",
    "    \n",
    "    # Returning linear regression R^2 and coefficients before performing diagnostics\n",
    "    r2 = model.score(features, label)\n",
    "    print()\n",
    "    print('R^2:', r2, '\\n')\n",
    "    print('Coefficients')\n",
    "    print('-------------------------------------')\n",
    "    print('Intercept:', model.intercept_)\n",
    "    \n",
    "    for feature in range(len(model.coef_)):\n",
    "        print('{0}: {1}'.format(feature_names[feature], model.coef_[feature]))\n",
    "\n",
    "    print('\\nPerforming linear regression assumption testing')\n",
    "    \n",
    "    # Creating predictions and calculating residuals for assumption tests\n",
    "    predictions = model.predict(features)\n",
    "    df_results = pd.DataFrame({'Actual': label, 'Predicted': predictions})\n",
    "    df_results['Residuals'] = abs(df_results['Actual']) - abs(df_results['Predicted'])\n",
    "\n",
    "    \n",
    "    def linear_assumption():\n",
    "        \"\"\"\n",
    "        Linearity: Assumes there is a linear relationship between the predictors and\n",
    "                   the response variable. If not, either a polynomial term or another\n",
    "                   algorithm should be used.\n",
    "        \"\"\"\n",
    "        print('\\n=======================================================================================')\n",
    "        print('Assumption 1: Linear Relationship between the Target and the Features')\n",
    "        \n",
    "        print('Checking with a scatter plot of actual vs. predicted. Predictions should follow the diagonal line.')\n",
    "        \n",
    "        # Plotting the actual vs predicted values\n",
    "        sns.lmplot(x='Actual', y='Predicted', data=df_results, fit_reg=False, size=7)\n",
    "        \n",
    "        # Plotting the diagonal line\n",
    "        line_coords = np.arange(df_results.min().min(), df_results.max().max())\n",
    "        plt.plot(line_coords, line_coords,  # X and y points\n",
    "                 color='darkorange', linestyle='--')\n",
    "        plt.title('Actual vs. Predicted')\n",
    "        plt.show()\n",
    "        print('If non-linearity is apparent, consider adding a polynomial term')\n",
    "        \n",
    "        \n",
    "    def normal_errors_assumption(p_value_thresh=0.05):\n",
    "        \"\"\"\n",
    "        Normality: Assumes that the error terms are normally distributed. If they are not,\n",
    "        nonlinear transformations of variables may solve this.\n",
    "               \n",
    "        This assumption being violated primarily causes issues with the confidence intervals\n",
    "        \"\"\"\n",
    "        from statsmodels.stats.diagnostic import normal_ad\n",
    "        print('\\n=======================================================================================')\n",
    "        print('Assumption 2: The error terms are normally distributed')\n",
    "        print()\n",
    "    \n",
    "        print('Using the Anderson-Darling test for normal distribution')\n",
    "\n",
    "        # Performing the test on the residuals\n",
    "        p_value = normal_ad(df_results['Residuals'])[1]\n",
    "        print('p-value from the test - below 0.05 generally means non-normal:', p_value)\n",
    "    \n",
    "        # Reporting the normality of the residuals\n",
    "        if p_value < p_value_thresh:\n",
    "            print('Residuals are not normally distributed')\n",
    "        else:\n",
    "            print('Residuals are normally distributed')\n",
    "    \n",
    "        # Plotting the residuals distribution\n",
    "        plt.subplots(figsize=(12, 6))\n",
    "        plt.title('Distribution of Residuals')\n",
    "        sns.distplot(df_results['Residuals'])\n",
    "        plt.show()\n",
    "    \n",
    "        print()\n",
    "        if p_value > p_value_thresh:\n",
    "            print('Assumption satisfied')\n",
    "        else:\n",
    "            print('Assumption not satisfied')\n",
    "            print()\n",
    "            print('Confidence intervals will likely be affected')\n",
    "            print('Try performing nonlinear transformations on variables')\n",
    "        \n",
    "        \n",
    "    def multicollinearity_assumption():\n",
    "       \n",
    "        \"\"\"\n",
    "        Multicollinearity: Assumes that predictors are not correlated with each other. If there is\n",
    "                           correlation among the predictors, then either remove prepdictors with high\n",
    "                           Variance Inflation Factor (VIF) values or perform dimensionality reduction\n",
    "\n",
    "                           This assumption being violated causes issues with interpretability of the \n",
    "                           coefficients and the standard errors of the coefficients.\n",
    "        \"\"\"\n",
    "        from statsmodels.stats.outliers_influence import variance_inflation_factor\n",
    "        print('\\n=======================================================================================')\n",
    "        print('Assumption 3: Little to no multicollinearity among predictors')\n",
    "\n",
    "\n",
    "        features = pd.DataFrame(X)\n",
    "\n",
    "\n",
    "        # Plotting the heatmap\n",
    "        plt.figure(figsize = (10,8))\n",
    "        sns.heatmap(pd.DataFrame(features, features.columns).corr(), annot=True)\n",
    "        #sns.heatmap(features)\n",
    "        plt.title('Correlation of Variables')\n",
    "        plt.show()\n",
    "\n",
    "        print('Variance Inflation Factors (VIF)')\n",
    "        print('> 10: An indication that multicollinearity may be present')\n",
    "        print('> 100: Certain multicollinearity among the variables')\n",
    "        print('-------------------------------------')\n",
    "\n",
    "        # Gathering the VIF for each variable\n",
    "        VIF = [variance_inflation_factor(features.values, i) for i in range(features.shape[1])]\n",
    "        for idx, vif in enumerate(VIF):\n",
    "            print('{0}: {1}'.format(features.columns[idx], vif))\n",
    "\n",
    "        # Gathering and printing total cases of possible or definite multicollinearity\n",
    "        possible_multicollinearity = sum([1 for vif in VIF if vif > 10])\n",
    "        definite_multicollinearity = sum([1 for vif in VIF if vif > 100])\n",
    "        print()\n",
    "        print('{0} cases of possible multicollinearity'.format(possible_multicollinearity))\n",
    "        print('{0} cases of definite multicollinearity'.format(definite_multicollinearity))\n",
    "        print()\n",
    "\n",
    "        if definite_multicollinearity == 0:\n",
    "            if possible_multicollinearity == 0:\n",
    "                print('Assumption satisfied')\n",
    "            else:\n",
    "                print('Assumption possibly satisfied')\n",
    "                print()\n",
    "                print('Coefficient interpretability may be problematic')\n",
    "                print('Consider removing variables with a high Variance Inflation Factor (VIF)')\n",
    "        else:\n",
    "            print('Assumption not satisfied')\n",
    "            print()\n",
    "            print('Coefficient interpretability will be problematic')\n",
    "            print('Consider removing variables with a high Variance Inflation Factor (VIF)')\n",
    "        \n",
    "    def autocorrelation_assumption():\n",
    "        \"\"\"\n",
    "        Autocorrelation: Assumes that there is no autocorrelation in the residuals. If there is\n",
    "                         autocorrelation, then there is a pattern that is not explained due to\n",
    "                         the current value being dependent on the previous value.\n",
    "                         This may be resolved by adding a lag variable of either the dependent\n",
    "                         variable or some of the predictors.\n",
    "        \"\"\"\n",
    "        from statsmodels.stats.stattools import durbin_watson\n",
    "        print('\\n=======================================================================================')\n",
    "        print('Assumption 4: No Autocorrelation')\n",
    "        print('\\nPerforming Durbin-Watson Test')\n",
    "        print('Values of 1.5 < d < 2.5 generally show that there is no autocorrelation in the data')\n",
    "        print('0 to 2< is positive autocorrelation')\n",
    "        print('>2 to 4 is negative autocorrelation')\n",
    "        print('-------------------------------------')\n",
    "        durbinWatson = durbin_watson(df_results['Residuals'])\n",
    "        print('Durbin-Watson:', durbinWatson)\n",
    "        if durbinWatson < 1.5:\n",
    "            print('Signs of positive autocorrelation', '\\n')\n",
    "            print('Assumption not satisfied', '\\n')\n",
    "            print('Consider adding lag variables')\n",
    "        elif durbinWatson > 2.5:\n",
    "            print('Signs of negative autocorrelation', '\\n')\n",
    "            print('Assumption not satisfied', '\\n')\n",
    "            print('Consider adding lag variables')\n",
    "        else:\n",
    "            print('Little to no autocorrelation', '\\n')\n",
    "            print('Assumption satisfied')\n",
    "\n",
    "            \n",
    "    def homoscedasticity_assumption():\n",
    "        \"\"\"\n",
    "        Homoscedasticity: Assumes that the errors exhibit constant variance\n",
    "        \"\"\"\n",
    "        print('\\n=======================================================================================')\n",
    "        print('Assumption 5: Homoscedasticity of Error Terms')\n",
    "        print('Residuals should have relative constant variance')\n",
    "        \n",
    "        # Plotting the residuals\n",
    "        plt.subplots(figsize=(12, 6))\n",
    "        ax = plt.subplot(111)  # To remove spines\n",
    "        plt.scatter(x=df_results.index, y=df_results.Residuals, alpha=0.5)\n",
    "        plt.plot(np.repeat(0, df_results.index.max()), color='darkorange', linestyle='--')\n",
    "        ax.spines['right'].set_visible(False)  # Removing the right spine\n",
    "        ax.spines['top'].set_visible(False)  # Removing the top spine\n",
    "        plt.title('Residuals')\n",
    "        plt.show() \n",
    "        print('If heteroscedasticity is apparent, confidence intervals and predictions will be affected')\n",
    "        \n",
    "        \n",
    "    linear_assumption()\n",
    "    normal_errors_assumption()\n",
    "    multicollinearity_assumption()\n",
    "    autocorrelation_assumption()\n",
    "    homoscedasticity_assumption()"
   ]
  },
  {
   "cell_type": "code",
   "execution_count": null,
   "metadata": {},
   "outputs": [],
   "source": []
  },
  {
   "cell_type": "code",
   "execution_count": 321,
   "metadata": {
    "scrolled": false
   },
   "outputs": [
    {
     "name": "stdout",
     "output_type": "stream",
     "text": [
      "Fitting linear regression\n",
      "\n",
      "R^2: 0.12426476822634203 \n",
      "\n",
      "Coefficients\n",
      "-------------------------------------\n",
      "Intercept: 0.7155122213256624\n",
      "X1: -0.044513092298754914\n",
      "X2: -0.16750490197097193\n",
      "X3: -0.12278931813874178\n",
      "X4: 0.039497900265979415\n",
      "X5: -0.15487975128431966\n",
      "X6: -0.1994163193678222\n",
      "X7: -0.007700187504408652\n",
      "X8: -0.1439942193503659\n",
      "X9: -0.09984160591065512\n",
      "X10: -0.20921168202411253\n",
      "\n",
      "Performing linear regression assumption testing\n",
      "\n",
      "=======================================================================================\n",
      "Assumption 1: Linear Relationship between the Target and the Features\n",
      "Checking with a scatter plot of actual vs. predicted. Predictions should follow the diagonal line.\n"
     ]
    },
    {
     "data": {
      "image/png": "[encoded data removed]",
      "text/plain": [
       "<Figure size 504x504 with 1 Axes>"
      ]
     },
     "metadata": {},
     "output_type": "display_data"
    },
    {
     "name": "stdout",
     "output_type": "stream",
     "text": [
      "If non-linearity is apparent, consider adding a polynomial term\n",
      "\n",
      "=======================================================================================\n",
      "Assumption 2: The error terms are normally distributed\n",
      "\n",
      "Using the Anderson-Darling test for normal distribution\n",
      "p-value from the test - below 0.05 generally means non-normal: 0.0\n",
      "Residuals are not normally distributed\n"
     ]
    },
    {
     "name": "stderr",
     "output_type": "stream",
     "text": [
      "C:\\Users\\bjack\\Anaconda3\\lib\\site-packages\\statsmodels\\stats\\_adnorm.py:66: RuntimeWarning:\n",
      "\n",
      "divide by zero encountered in log\n",
      "\n"
     ]
    },
    {
     "data": {
      "image/png": "[encoded data removed]",
      "text/plain": [
       "<Figure size 864x432 with 1 Axes>"
      ]
     },
     "metadata": {},
     "output_type": "display_data"
    },
    {
     "name": "stdout",
     "output_type": "stream",
     "text": [
      "\n",
      "Assumption not satisfied\n",
      "\n",
      "Confidence intervals will likely be affected\n",
      "Try performing nonlinear transformations on variables\n",
      "\n",
      "=======================================================================================\n",
      "Assumption 3: Little to no multicollinearity among predictors\n"
     ]
    },
    {
     "data": {
      "image/png": "[encoded data removed]",
      "text/plain": [
       "<Figure size 720x576 with 2 Axes>"
      ]
     },
     "metadata": {},
     "output_type": "display_data"
    },
    {
     "name": "stdout",
     "output_type": "stream",
     "text": [
      "Variance Inflation Factors (VIF)\n",
      "> 10: An indication that multicollinearity may be present\n",
      "> 100: Certain multicollinearity among the variables\n",
      "-------------------------------------\n",
      "0: 1.8044525093172754\n",
      "1: 1.836460641276386\n",
      "2: 1.8595619257254228\n",
      "3: 1.8571225841686942\n",
      "4: 1.891098299475984\n",
      "5: 1.9149204217450513\n",
      "6: 1.851327284660308\n",
      "7: 1.822136109077459\n",
      "8: 1.8718584518059436\n",
      "9: 1.9137781160849423\n",
      "\n",
      "0 cases of possible multicollinearity\n",
      "0 cases of definite multicollinearity\n",
      "\n",
      "Assumption satisfied\n",
      "\n",
      "=======================================================================================\n",
      "Assumption 4: No Autocorrelation\n",
      "\n",
      "Performing Durbin-Watson Test\n",
      "Values of 1.5 < d < 2.5 generally show that there is no autocorrelation in the data\n",
      "0 to 2< is positive autocorrelation\n",
      ">2 to 4 is negative autocorrelation\n",
      "-------------------------------------\n",
      "Durbin-Watson: 1.3060070280719442\n",
      "Signs of positive autocorrelation \n",
      "\n",
      "Assumption not satisfied \n",
      "\n",
      "Consider adding lag variables\n",
      "\n",
      "=======================================================================================\n",
      "Assumption 5: Homoscedasticity of Error Terms\n",
      "Residuals should have relative constant variance\n"
     ]
    },
    {
     "data": {
      "image/png": "[encoded data removed]",
      "text/plain": [
       "<Figure size 864x432 with 1 Axes>"
      ]
     },
     "metadata": {},
     "output_type": "display_data"
    },
    {
     "name": "stdout",
     "output_type": "stream",
     "text": [
      "If heteroscedasticity is apparent, confidence intervals and predictions will be affected\n"
     ]
    }
   ],
   "source": [
    "linear_regression_assumptions(X,y)"
   ]
  },
  {
   "cell_type": "markdown",
   "metadata": {},
   "source": [
    "<a id='step7'></a>"
   ]
  },
  {
   "cell_type": "markdown",
   "metadata": {},
   "source": [
    "## Now that we've validated the base regression model, bring in different types of regression algorithms and then compare their results"
   ]
  },
  {
   "cell_type": "code",
   "execution_count": 322,
   "metadata": {},
   "outputs": [
    {
     "name": "stdout",
     "output_type": "stream",
     "text": [
      "R-squared of the model in training set is: 0.09402013514238505\n",
      "-----Test set statistics-----\n",
      "R-squared of the model in test set is: 0.21912101697076003\n",
      "Mean absolute error of the prediction is: 1.2548085816017733\n",
      "Mean squared error of the prediction is: 8.168329946103686\n",
      "Root mean squared error of the prediction is: 2.8580290317111348\n",
      "Mean absolute percentage error of the prediction is: 300.27671875390934\n"
     ]
    }
   ],
   "source": [
    "# Linear regression\n",
    "\n",
    "lrm = LinearRegression()\n",
    "\n",
    "lrm.fit(x_train, y_train)\n",
    "\n",
    "# We are making predictions here\n",
    "y_preds_train = lrm.predict(x_train)\n",
    "y_preds_test = lrm.predict(x_test)\n",
    "\n",
    "print(\"R-squared of the model in training set is: {}\".format(lrm.score(x_train, y_train)))\n",
    "print(\"-----Test set statistics-----\")\n",
    "print(\"R-squared of the model in test set is: {}\".format(lrm.score(x_test, y_test)))\n",
    "print(\"Mean absolute error of the prediction is: {}\".format(mean_absolute_error(y_test, y_preds_test)))\n",
    "print(\"Mean squared error of the prediction is: {}\".format(mse(y_test, y_preds_test)))\n",
    "print(\"Root mean squared error of the prediction is: {}\".format(rmse(y_test, y_preds_test)))\n",
    "print(\"Mean absolute percentage error of the prediction is: {}\".format(np.mean(np.abs((y_test - y_preds_test) / y_test)) * 100))"
   ]
  },
  {
   "cell_type": "markdown",
   "metadata": {},
   "source": [
    "## Ridge Regression"
   ]
  },
  {
   "cell_type": "code",
   "execution_count": 323,
   "metadata": {},
   "outputs": [
    {
     "name": "stdout",
     "output_type": "stream",
     "text": [
      "Best alpha value is: 1000.0\n",
      "R-squared of the model in training set is: 0.09076180715732163\n",
      "-----Test set statistics-----\n",
      "R-squared of the model in test set is: 0.20206139048680927\n",
      "Mean absolute error of the prediction is: 1.2225535278663056\n",
      "Mean squared error of the prediction is: 8.346780974888745\n",
      "Root mean squared error of the prediction is: 2.889079606879801\n",
      "Mean absolute percentage error of the prediction is: 265.6432806059403\n"
     ]
    }
   ],
   "source": [
    "alphas = [np.power(10.0,p) for p in np.arange(-10,40,1)]\n",
    "ridge_cv = RidgeCV(alphas=alphas, cv=5)\n",
    "\n",
    "ridge_cv.fit(x_train, y_train)\n",
    "\n",
    "# We are making predictions here\n",
    "y_preds_train = ridge_cv.predict(x_train)\n",
    "y_preds_test = ridge_cv.predict(x_test)\n",
    "\n",
    "print(\"Best alpha value is: {}\".format(ridge_cv.alpha_))\n",
    "print(\"R-squared of the model in training set is: {}\".format(ridge_cv.score(x_train, y_train)))\n",
    "print(\"-----Test set statistics-----\")\n",
    "print(\"R-squared of the model in test set is: {}\".format(ridge_cv.score(x_test, y_test)))\n",
    "print(\"Mean absolute error of the prediction is: {}\".format(mean_absolute_error(y_test, y_preds_test)))\n",
    "print(\"Mean squared error of the prediction is: {}\".format(mse(y_test, y_preds_test)))\n",
    "print(\"Root mean squared error of the prediction is: {}\".format(rmse(y_test, y_preds_test)))\n",
    "print(\"Mean absolute percentage error of the prediction is: {}\".format(np.mean(np.abs((y_test - y_preds_test) / y_test)) * 100))"
   ]
  },
  {
   "cell_type": "code",
   "execution_count": 240,
   "metadata": {},
   "outputs": [
    {
     "name": "stdout",
     "output_type": "stream",
     "text": [
      "Test error = 16.62088935578082 percent in Ridge Regression\n"
     ]
    }
   ],
   "source": [
    "error=0\n",
    "for i in range(len(y_test)):\n",
    "    error+=(abs(y_preds_test[i]-y_test[i])/y_preds_test[i])\n",
    "test_error_ridge=error/len(y_test)*100\n",
    "print(\"Test error = \"'{}'.format(test_error_ridge)+\" percent in Ridge Regression\")"
   ]
  },
  {
   "cell_type": "markdown",
   "metadata": {},
   "source": [
    "## Lasso Regression"
   ]
  },
  {
   "cell_type": "code",
   "execution_count": 241,
   "metadata": {},
   "outputs": [
    {
     "name": "stdout",
     "output_type": "stream",
     "text": [
      "Best alpha value is: 1e-10\n",
      "R-squared of the model in training set is: 0.3031213370610829\n",
      "-----Test set statistics-----\n",
      "R-squared of the model in test set is: 0.19806760762456443\n",
      "Mean absolute error of the prediction is: 89.37328477403219\n",
      "Mean squared error of the prediction is: 13076.677400575036\n",
      "Root mean squared error of the prediction is: 114.35330078565741\n",
      "Mean absolute percentage error of the prediction is: 566.1855458868147\n"
     ]
    }
   ],
   "source": [
    "\n",
    "lasso_cv = sklearn.linear_model.LassoCV(alphas=alphas, cv=5)\n",
    "\n",
    "lasso_cv.fit(x_train, y_train)\n",
    "\n",
    "# We are making predictions here\n",
    "y_preds_train = lasso_cv.predict(x_train)\n",
    "y_preds_test = lasso_cv.predict(x_test)\n",
    "\n",
    "print(\"Best alpha value is: {}\".format(lasso_cv.alpha_))\n",
    "print(\"R-squared of the model in training set is: {}\".format(lasso_cv.score(x_train, y_train)))\n",
    "print(\"-----Test set statistics-----\")\n",
    "print(\"R-squared of the model in test set is: {}\".format(lasso_cv.score(x_test, y_test)))\n",
    "print(\"Mean absolute error of the prediction is: {}\".format(mean_absolute_error(y_test, y_preds_test)))\n",
    "print(\"Mean squared error of the prediction is: {}\".format(mse(y_test, y_preds_test)))\n",
    "print(\"Root mean squared error of the prediction is: {}\".format(rmse(y_test, y_preds_test)))\n",
    "print(\"Mean absolute percentage error of the prediction is: {}\".format(np.mean(np.abs((y_test - y_preds_test) / y_test)) * 100))"
   ]
  },
  {
   "cell_type": "code",
   "execution_count": 242,
   "metadata": {},
   "outputs": [
    {
     "name": "stdout",
     "output_type": "stream",
     "text": [
      "Train error = 291.71829650094804 percent in Lasso Regression - Training\n",
      "Test error = 16.62088934273898 percent in Lasso Regression - Testing\n"
     ]
    }
   ],
   "source": [
    "\n",
    "\n",
    "error=0\n",
    "for i in range(len(y_train)):\n",
    "    error+=(abs(y_preds_train[i]-y_train[i])/y_preds_train[i])\n",
    "train_error_lasso=error/len(y_train)*100\n",
    "\n",
    "print(\"Train error = \"'{}'.format(train_error_lasso)+\" percent in Lasso Regression - Training\")\n",
    "\n",
    "error=0\n",
    "for i in range(len(y_test)):\n",
    "    error+=(abs(y_preds_test[i]-y_test[i])/y_preds_test[i])\n",
    "test_error_lasso=error/len(y_test)*100\n",
    "\n",
    "\n",
    "\n",
    "print(\"Test error = \"'{}'.format(test_error_lasso)+\" percent in Lasso Regression - Testing\")"
   ]
  },
  {
   "cell_type": "markdown",
   "metadata": {},
   "source": [
    "## ElasticNetCV"
   ]
  },
  {
   "cell_type": "code",
   "execution_count": 243,
   "metadata": {},
   "outputs": [
    {
     "name": "stdout",
     "output_type": "stream",
     "text": [
      "Best alpha value is: 1e-10\n",
      "R-squared of the model in training set is: 0.3031213370610829\n",
      "-----Test set statistics-----\n",
      "R-squared of the model in test set is: 0.1980676076292357\n",
      "Mean absolute error of the prediction is: 89.37328477372183\n",
      "Mean squared error of the prediction is: 13076.677400498864\n",
      "Root mean squared error of the prediction is: 114.35330078532435\n",
      "Mean absolute percentage error of the prediction is: 566.1855458778598\n"
     ]
    }
   ],
   "source": [
    "\n",
    "elasticnet_cv = linear_model.ElasticNetCV(alphas=alphas, cv=5)\n",
    "\n",
    "elasticnet_cv.fit(x_train, y_train)\n",
    "\n",
    "# We are making predictions here\n",
    "y_preds_train = elasticnet_cv.predict(x_train)\n",
    "y_preds_test = elasticnet_cv.predict(x_test)\n",
    "\n",
    "print(\"Best alpha value is: {}\".format(elasticnet_cv.alpha_))\n",
    "print(\"R-squared of the model in training set is: {}\".format(elasticnet_cv.score(x_train, y_train)))\n",
    "print(\"-----Test set statistics-----\")\n",
    "print(\"R-squared of the model in test set is: {}\".format(elasticnet_cv.score(x_test, y_test)))\n",
    "print(\"Mean absolute error of the prediction is: {}\".format(mean_absolute_error(y_test, y_preds_test)))\n",
    "print(\"Mean squared error of the prediction is: {}\".format(mse(y_test, y_preds_test)))\n",
    "print(\"Root mean squared error of the prediction is: {}\".format(rmse(y_test, y_preds_test)))\n",
    "print(\"Mean absolute percentage error of the prediction is: {}\".format(np.mean(np.abs((y_test - y_preds_test) / y_test)) * 100))"
   ]
  },
  {
   "cell_type": "code",
   "execution_count": 244,
   "metadata": {},
   "outputs": [
    {
     "name": "stdout",
     "output_type": "stream",
     "text": [
      "Train error = 291.7183206965822 ppercent in elasticnet Regression - Training\n",
      "Test error = 16.620889428495143 percent in elasticnet Regression - Testing\n"
     ]
    }
   ],
   "source": [
    "error=0\n",
    "for i in range(len(y_train)):\n",
    "    error+=(abs(y_preds_train[i]-y_train[i])/y_preds_train[i])\n",
    "train_error_elasticnet =error/len(y_train)*100\n",
    "\n",
    "print(\"Train error = \"'{}'.format(train_error_elasticnet)+\" ppercent in elasticnet Regression - Training\")\n",
    "\n",
    "\n",
    "\n",
    "error=0\n",
    "for i in range(len(y_test)):\n",
    "    error+=(abs(y_preds_test[i]-y_test[i])/y_preds_test[i])\n",
    "test_error_elasticnet= error/len(y_test)*100\n",
    "print(\"Test error = \"'{}'.format(test_error_elasticnet)+\" percent in elasticnet Regression - Testing\")"
   ]
  },
  {
   "cell_type": "markdown",
   "metadata": {},
   "source": [
    "### KNN Regression"
   ]
  },
  {
   "cell_type": "code",
   "execution_count": 245,
   "metadata": {},
   "outputs": [
    {
     "name": "stdout",
     "output_type": "stream",
     "text": [
      "Train error = 87.41721483089407 percent in Knn algorithm\n",
      "Test error = -24.38364777766708 percent in knn algorithm\n"
     ]
    }
   ],
   "source": [
    "n_neighbors=5\n",
    "knn=KNeighborsRegressor(n_neighbors,weights='uniform')\n",
    "knn.fit(x_train,y_train)\n",
    "y1_knn=knn.predict(x_train)\n",
    "y1_knn=list(y1_knn)\n",
    "\n",
    "error=0\n",
    "for i in range(len(y_train)):\n",
    "    error+=(abs(y1_knn[i]-y_train[i])/y_train[i])\n",
    "train_error_knn=error/len(y_train)*100\n",
    "print(\"Train error = \"+'{}'.format(train_error_knn)+\" percent\"+\" in Knn algorithm\")\n",
    "\n",
    "y2_knn=knn.predict(x_test)\n",
    "y2_knn=list(y2_knn)\n",
    "error=0\n",
    "\n",
    "for i in range(len(y_test)):\n",
    "    error+=(abs(y2_knn[i]-y_test[i])/y_test[i])\n",
    "test_error_knn=error/len(y_test)*100\n",
    "print(\"Test error = \"'{}'.format(test_error_knn)+\" percent\"+\" in knn algorithm\")"
   ]
  },
  {
   "cell_type": "markdown",
   "metadata": {},
   "source": [
    "## Bayes Ridge Regression"
   ]
  },
  {
   "cell_type": "code",
   "execution_count": 246,
   "metadata": {},
   "outputs": [
    {
     "name": "stdout",
     "output_type": "stream",
     "text": [
      "Train error = -8.686255346111878 percent in Bayesian Regression\n",
      "Test error = -193.7766707360655 percent in Bayesian Regression\n"
     ]
    }
   ],
   "source": [
    "reg = linear_model.BayesianRidge()\n",
    "reg.fit(x_train,y_train)\n",
    "y1_reg=reg.predict(x_train)\n",
    "y1_reg=list(y1_reg)\n",
    "y2_reg=reg.predict(x_test)\n",
    "y2_reg=list(y2_reg)\n",
    "\n",
    "error=0\n",
    "for i in range(len(y_train)):\n",
    "    error+=(abs(y1_reg[i]-y_train[i])/y_train[i])\n",
    "train_error_bay=error/len(y_train)*100\n",
    "print(\"Train error = \"+'{}'.format(train_error_bay)+\" percent\"+\" in Bayesian Regression\")\n",
    "\n",
    "error=0\n",
    "for i in range(len(y_test)):\n",
    "    error+=(abs(y2_reg[i]-y_test[i])/y_test[i])\n",
    "test_error_bay=(error/len(y_test))*100\n",
    "print(\"Test error = \"+'{}'.format(test_error_bay)+\" percent\"+\" in Bayesian Regression\")"
   ]
  },
  {
   "cell_type": "code",
   "execution_count": 247,
   "metadata": {},
   "outputs": [
    {
     "data": {
      "text/html": [
       "<div>\n",
       "<style scoped>\n",
       "    .dataframe tbody tr th:only-of-type {\n",
       "        vertical-align: middle;\n",
       "    }\n",
       "\n",
       "    .dataframe tbody tr th {\n",
       "        vertical-align: top;\n",
       "    }\n",
       "\n",
       "    .dataframe thead th {\n",
       "        text-align: right;\n",
       "    }\n",
       "</style>\n",
       "<table border=\"1\" class=\"dataframe\">\n",
       "  <thead>\n",
       "    <tr style=\"text-align: right;\">\n",
       "      <th></th>\n",
       "      <th>Train Error</th>\n",
       "      <th>Test Error</th>\n",
       "    </tr>\n",
       "  </thead>\n",
       "  <tbody>\n",
       "    <tr>\n",
       "      <th>Ridge Regression</th>\n",
       "      <td>16.620889</td>\n",
       "      <td>16.620889</td>\n",
       "    </tr>\n",
       "    <tr>\n",
       "      <th>Lasso</th>\n",
       "      <td>291.718297</td>\n",
       "      <td>16.620889</td>\n",
       "    </tr>\n",
       "    <tr>\n",
       "      <th>Elasticnet</th>\n",
       "      <td>291.718321</td>\n",
       "      <td>16.620889</td>\n",
       "    </tr>\n",
       "    <tr>\n",
       "      <th>KNN</th>\n",
       "      <td>87.417215</td>\n",
       "      <td>-24.383648</td>\n",
       "    </tr>\n",
       "    <tr>\n",
       "      <th>BayesianRidge</th>\n",
       "      <td>-8.686255</td>\n",
       "      <td>-193.776671</td>\n",
       "    </tr>\n",
       "  </tbody>\n",
       "</table>\n",
       "</div>"
      ],
      "text/plain": [
       "                  Train Error  Test Error\n",
       "Ridge Regression    16.620889   16.620889\n",
       "Lasso              291.718297   16.620889\n",
       "Elasticnet         291.718321   16.620889\n",
       "KNN                 87.417215  -24.383648\n",
       "BayesianRidge       -8.686255 -193.776671"
      ]
     },
     "execution_count": 247,
     "metadata": {},
     "output_type": "execute_result"
    }
   ],
   "source": [
    "train_error=[test_error_ridge,train_error_lasso,train_error_elasticnet,train_error_knn,train_error_bay]\n",
    "test_error=[test_error_ridge,test_error_lasso,test_error_elasticnet,test_error_knn,test_error_bay]\n",
    "\n",
    "col={'Train Error':train_error,'Test Error':test_error}\n",
    "models=['Ridge Regression','Lasso','Elasticnet','KNN','BayesianRidge']\n",
    "df_results=pd.DataFrame(data=col,index=models)\n",
    "df_results"
   ]
  },
  {
   "cell_type": "markdown",
   "metadata": {},
   "source": [
    "# Step 7: Craft Data Story "
   ]
  },
  {
   "cell_type": "markdown",
   "metadata": {},
   "source": [
    "Communicate results of the analysis: All the analysis and technical results that you come up with are of little value unless you can explain to your stakeholders what they mean, in a way that’s comprehensible and compelling. Data storytelling is a critical and underrated skill that you will build and use here."
   ]
  },
  {
   "cell_type": "code",
   "execution_count": null,
   "metadata": {},
   "outputs": [],
   "source": []
  },
  {
   "cell_type": "code",
   "execution_count": null,
   "metadata": {},
   "outputs": [],
   "source": []
  },
  {
   "cell_type": "code",
   "execution_count": null,
   "metadata": {},
   "outputs": [],
   "source": []
  },
  {
   "cell_type": "code",
   "execution_count": null,
   "metadata": {},
   "outputs": [],
   "source": []
  },
  {
   "cell_type": "markdown",
   "metadata": {},
   "source": [
    "<a id='step8'></a>"
   ]
  },
  {
   "cell_type": "markdown",
   "metadata": {},
   "source": [
    "# Step 8: Productionize Machine Learning Model "
   ]
  },
  {
   "cell_type": "markdown",
   "metadata": {},
   "source": []
  }
 ],
 "metadata": {
  "kernelspec": {
   "display_name": "Python 3",
   "language": "python",
   "name": "python3"
  },
  "language_info": {
   "codemirror_mode": {
    "name": "ipython",
    "version": 3
   },
   "file_extension": ".py",
   "mimetype": "text/x-python",
   "name": "python",
   "nbconvert_exporter": "python",
   "pygments_lexer": "ipython3",
   "version": "3.7.1"
  }
 },
 "nbformat": 4,
 "nbformat_minor": 2
}
